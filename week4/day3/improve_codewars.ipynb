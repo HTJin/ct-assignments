{
 "cells": [
  {
   "cell_type": "code",
   "execution_count": 3,
   "metadata": {},
   "outputs": [],
   "source": [
    "import codewars_test as test"
   ]
  },
  {
   "attachments": {},
   "cell_type": "markdown",
   "metadata": {},
   "source": [
    "# Problem 1 - Equal Sides Of An Array\n",
    "#### https://www.codewars.com/kata/5679aa472b8f57fb8c000047"
   ]
  },
  {
   "cell_type": "code",
   "execution_count": 14,
   "metadata": {},
   "outputs": [],
   "source": [
    "# Initial Solution\n",
    "def find_even_index_1(arr):\n",
    "    for index, num in enumerate(arr):\n",
    "        if sum(arr[:index]) == sum(arr[index+1:]):\n",
    "            return index\n",
    "    return -1\n",
    "\n",
    "# Improved Solution\n",
    "def find_even_index_2(arr):\n",
    "    total_sum = sum(arr)\n",
    "    left_sum = 0\n",
    "    for index, num in enumerate(arr):\n",
    "        if left_sum == total_sum - left_sum - num:\n",
    "            return index\n",
    "        left_sum += num\n",
    "    return -1"
   ]
  },
  {
   "attachments": {},
   "cell_type": "markdown",
   "metadata": {},
   "source": [
    "##### Explanation\n",
    "<ol>\n",
    "  <li>This was a group solution in our codewars-champions challenge today.</li>\n",
    "  <li>The idea was to loop through our parameter arr and return the index when the sum of the left and right sides of indexes were equal.</li>\n",
    "  <li>The initial solution uses our sum() function inside our for loop, making it a quadratic O(n^2) and not ideal. Doesn't even use the num that was returned for our loop</li>\n",
    "  <li>The improved solution I came up with doesn't care about slicing our array and decrements left_sum from a total_sum.</li>\n",
    "  <li>When the left_sum is equal, we return the index without another linear function, improving this to a linear O(n) solution.</li>\n",
    "</ol>"
   ]
  },
  {
   "cell_type": "code",
   "execution_count": 19,
   "metadata": {},
   "outputs": [
    {
     "name": "stdout",
     "output_type": "stream",
     "text": [
      "\n",
      "<DESCRIBE::>Problem 1 Tests\n",
      "\n",
      "<IT::>Initial Solution\n",
      "\n",
      "<PASSED::>Test Passed\n",
      "\n",
      "<PASSED::>Test Passed\n",
      "\n",
      "<PASSED::>Test Passed\n",
      "\n",
      "<PASSED::>Test Passed\n",
      "\n",
      "<PASSED::>Test Passed\n",
      "\n",
      "<PASSED::>Test Passed\n",
      "\n",
      "<PASSED::>Test Passed\n",
      "\n",
      "<PASSED::>Test Passed\n",
      "\n",
      "<PASSED::>Test Passed\n",
      "\n",
      "<PASSED::>Test Passed\n",
      "\n",
      "<COMPLETEDIN::>0.24\n",
      "\n",
      "<IT::>Improved Solution\n",
      "\n",
      "<PASSED::>Test Passed\n",
      "\n",
      "<PASSED::>Test Passed\n",
      "\n",
      "<PASSED::>Test Passed\n",
      "\n",
      "<PASSED::>Test Passed\n",
      "\n",
      "<PASSED::>Test Passed\n",
      "\n",
      "<PASSED::>Test Passed\n",
      "\n",
      "<PASSED::>Test Passed\n",
      "\n",
      "<PASSED::>Test Passed\n",
      "\n",
      "<PASSED::>Test Passed\n",
      "\n",
      "<PASSED::>Test Passed\n",
      "\n",
      "<COMPLETEDIN::>0.05\n",
      "\n",
      "<COMPLETEDIN::>0.31\n"
     ]
    }
   ],
   "source": [
    "@test.describe('Problem 1 Tests')\n",
    "def equal_sides_array():\n",
    "\n",
    "    @test.it('Initial Solution')\n",
    "    def initial_solution():\n",
    "        test.assert_equals(find_even_index_1([1,2,3,4,3,2,1]),3)\n",
    "        test.assert_equals(find_even_index_1([1,100,50,-51,1,1]),1,)\n",
    "        test.assert_equals(find_even_index_1([1,2,3,4,5,6]),-1)\n",
    "        test.assert_equals(find_even_index_1([20,10,30,10,10,15,35]),3)\n",
    "        test.assert_equals(find_even_index_1([20,10,-80,10,10,15,35]),0)\n",
    "        test.assert_equals(find_even_index_1([10,-80,10,10,15,35,20]),6)\n",
    "        test.assert_equals(find_even_index_1(list(range(1,100))),-1)\n",
    "        test.assert_equals(find_even_index_1([0,0,0,0,0]),0,\"Should pick the first index if more cases are valid\")\n",
    "        test.assert_equals(find_even_index_1([-1,-2,-3,-4,-3,-2,-1]),3)\n",
    "        test.assert_equals(find_even_index_1(list(range(-100,-1))),-1)\n",
    "    \n",
    "    @test.it('Improved Solution')\n",
    "    def improved_solution():\n",
    "        test.assert_equals(find_even_index_2([1,2,3,4,3,2,1]),3)\n",
    "        test.assert_equals(find_even_index_2([1,100,50,-51,1,1]),1,)\n",
    "        test.assert_equals(find_even_index_2([1,2,3,4,5,6]),-1)\n",
    "        test.assert_equals(find_even_index_2([20,10,30,10,10,15,35]),3)\n",
    "        test.assert_equals(find_even_index_2([20,10,-80,10,10,15,35]),0)\n",
    "        test.assert_equals(find_even_index_2([10,-80,10,10,15,35,20]),6)\n",
    "        test.assert_equals(find_even_index_2(list(range(1,100))),-1)\n",
    "        test.assert_equals(find_even_index_2([0,0,0,0,0]),0,\"Should pick the first index if more cases are valid\")\n",
    "        test.assert_equals(find_even_index_2([-1,-2,-3,-4,-3,-2,-1]),3)\n",
    "        test.assert_equals(find_even_index_2(list(range(-100,-1))),-1)"
   ]
  },
  {
   "attachments": {},
   "cell_type": "markdown",
   "metadata": {},
   "source": [
    "Initial Solution - <COMPLETEDIN::>0.24<br>\n",
    "Improved Solution - <COMPLETEDIN::>0.05"
   ]
  },
  {
   "attachments": {},
   "cell_type": "markdown",
   "metadata": {},
   "source": [
    "# Problem 2 - Human Readable Time\n",
    "#### https://www.codewars.com/kata/52685f7382004e774f0001f7"
   ]
  },
  {
   "cell_type": "code",
   "execution_count": 21,
   "metadata": {},
   "outputs": [],
   "source": [
    "# Initial Solution\n",
    "def make_readable_1(seconds):\n",
    "    secs = seconds\n",
    "    mins = seconds // 60\n",
    "    hours = seconds // 3600\n",
    "    if hours > 99:\n",
    "        mins, secs = min(59, max(0, mins)), min(59, max(0, secs))    \n",
    "    else:\n",
    "        for s in (mins, secs):\n",
    "            if mins > 59:\n",
    "                s -= 60*(s//60)\n",
    "                mins = s\n",
    "            else:\n",
    "                s -= 60*(s//60)\n",
    "                secs = s\n",
    "    hours = min(99, max(0, hours))\n",
    "    return f\"{hours:02}:{mins:02}:{secs:02}\"\n",
    "\n",
    "# Improved Solution\n",
    "def make_readable_2(seconds):\n",
    "    return f'{seconds//3600:02}:{(seconds%3600)//60:02}:{seconds%60:02}'"
   ]
  },
  {
   "attachments": {},
   "cell_type": "markdown",
   "metadata": {},
   "source": [
    "##### Explanation\n",
    "<ol>\n",
    "  <li>The idea was to convert our parameter seconds into mins and hours. Then set conditions so that the display doesn't show hours above 99, mins and secs above 59.</li>\n",
    "  <li>The initial solution uses a for loop and I tinkered around with the math to make it display correctly when mins and secs go past 59.</li>\n",
    "  <li>I found out floor dividing the remainder from hour conversion by 60 will limit the minute display to under 60 and up to 59 in our improved solution.</li>\n",
    "  <li>Improved readability in the code and much less complicated than messing with min()/max() to set the display value strictly to 99:59:59.</li>\n",
    "  <li>Not much time improvement in the small sized sample tests, but the initial solution is going to be O(n) because of the for loop and improved solution is O(1).</li>\n",
    "</ol>"
   ]
  },
  {
   "cell_type": "code",
   "execution_count": 13,
   "metadata": {},
   "outputs": [
    {
     "name": "stdout",
     "output_type": "stream",
     "text": [
      "\n",
      "<DESCRIBE::>Problem 2 Tests\n",
      "\n",
      "<IT::>Initial Solution\n",
      "\n",
      "<PASSED::>Test Passed\n",
      "\n",
      "<PASSED::>Test Passed\n",
      "\n",
      "<PASSED::>Test Passed\n",
      "\n",
      "<PASSED::>Test Passed\n",
      "\n",
      "<PASSED::>Test Passed\n",
      "\n",
      "<COMPLETEDIN::>0.03\n",
      "\n",
      "<IT::>Improved Solution\n",
      "\n",
      "<PASSED::>Test Passed\n",
      "\n",
      "<PASSED::>Test Passed\n",
      "\n",
      "<PASSED::>Test Passed\n",
      "\n",
      "<PASSED::>Test Passed\n",
      "\n",
      "<PASSED::>Test Passed\n",
      "\n",
      "<COMPLETEDIN::>0.02\n",
      "\n",
      "<COMPLETEDIN::>0.06\n"
     ]
    }
   ],
   "source": [
    "@test.describe('Problem 2 Tests')\n",
    "def human_readable_time():\n",
    "\n",
    "    @test.it('Initial Solution')\n",
    "    def initial_solution():\n",
    "        test.assert_equals(make_readable_1(0), \"00:00:00\")\n",
    "        test.assert_equals(make_readable_1(5), \"00:00:05\")\n",
    "        test.assert_equals(make_readable_1(60), \"00:01:00\")\n",
    "        test.assert_equals(make_readable_1(86399), \"23:59:59\")\n",
    "        test.assert_equals(make_readable_1(359999), \"99:59:59\")\n",
    "    \n",
    "    @test.it('Improved Solution')\n",
    "    def improved_solution():\n",
    "        test.assert_equals(make_readable_2(0), \"00:00:00\")\n",
    "        test.assert_equals(make_readable_2(5), \"00:00:05\")\n",
    "        test.assert_equals(make_readable_2(60), \"00:01:00\")\n",
    "        test.assert_equals(make_readable_2(86399), \"23:59:59\")\n",
    "        test.assert_equals(make_readable_2(359999), \"99:59:59\")"
   ]
  },
  {
   "attachments": {},
   "cell_type": "markdown",
   "metadata": {},
   "source": [
    "Initial Solution - <COMPLETEDIN::>0.03<br>\n",
    "Improved Solution - <COMPLETEDIN::>0.02"
   ]
  },
  {
   "attachments": {},
   "cell_type": "markdown",
   "metadata": {},
   "source": [
    "# Problem 3 - Sum of Digits/Digital Root\n",
    "#### https://www.codewars.com/kata/541c8630095125aba6000c00"
   ]
  },
  {
   "cell_type": "code",
   "execution_count": 23,
   "metadata": {},
   "outputs": [],
   "source": [
    "# Initial Solution\n",
    "def digital_root_1(n):\n",
    "    total = sum([int(num) for num in str(n)])\n",
    "    if len(str(total)) > 1: total = digital_root_1(total)\n",
    "    return total\n",
    "\n",
    "# Improved Solution\n",
    "def digital_root_2(n):\n",
    "    if n != 0:\n",
    "        return n % 9 or 9\n",
    "    return 0"
   ]
  },
  {
   "attachments": {},
   "cell_type": "markdown",
   "metadata": {},
   "source": [
    "##### Explanation\n",
    "<ol>\n",
    "  <li>The idea was to get the sum of all digits in our parameter n by converting to string then get all the digits in a list for the sum.</li>\n",
    "  <li>The initial solution uses a for loop but also uses a recursive call again to the function, making this into a logarithmic O(log n) solution.</li>\n",
    "  <li>I found out that we can simply calculate the digital root by dividing 9 and taking the remainder.</li>\n",
    "  <li>If the remainder is 0 then 9 will be remaining, hence I returned with or 9</li>\n",
    "  <li>The time complexity of the improved solution is going to be O(1)</li>\n",
    "</ol>"
   ]
  },
  {
   "cell_type": "code",
   "execution_count": 25,
   "metadata": {},
   "outputs": [
    {
     "name": "stdout",
     "output_type": "stream",
     "text": [
      "\n",
      "<DESCRIBE::>Problem 3 Tests\n",
      "\n",
      "<IT::>Initial Solution\n",
      "\n",
      "<PASSED::>Test Passed\n",
      "\n",
      "<PASSED::>Test Passed\n",
      "\n",
      "<PASSED::>Test Passed\n",
      "\n",
      "<PASSED::>Test Passed\n",
      "\n",
      "<COMPLETEDIN::>0.03\n",
      "\n",
      "<IT::>Improved Solution\n",
      "\n",
      "<PASSED::>Test Passed\n",
      "\n",
      "<PASSED::>Test Passed\n",
      "\n",
      "<PASSED::>Test Passed\n",
      "\n",
      "<PASSED::>Test Passed\n",
      "\n",
      "<COMPLETEDIN::>0.01\n",
      "\n",
      "<COMPLETEDIN::>0.06\n"
     ]
    }
   ],
   "source": [
    "@test.describe('Problem 3 Tests')\n",
    "def sum_digits_digital_root():\n",
    "\n",
    "    @test.it('Initial Solution')\n",
    "    def initial_solution():\n",
    "        test.assert_equals(digital_root_1(16), 7)\n",
    "        test.assert_equals(digital_root_1(942), 6)\n",
    "        test.assert_equals(digital_root_1(132189), 6)\n",
    "        test.assert_equals(digital_root_1(493193), 2)\n",
    "    \n",
    "    @test.it('Improved Solution')\n",
    "    def improved_solution():\n",
    "        test.assert_equals(digital_root_2(16), 7)\n",
    "        test.assert_equals(digital_root_2(942), 6)\n",
    "        test.assert_equals(digital_root_2(132189), 6)\n",
    "        test.assert_equals(digital_root_2(493193), 2)"
   ]
  },
  {
   "attachments": {},
   "cell_type": "markdown",
   "metadata": {},
   "source": [
    "Initial Solution - <COMPLETEDIN::>0.03<br>\n",
    "Improved Solution - <COMPLETEDIN::>0.01"
   ]
  }
 ],
 "metadata": {
  "kernelspec": {
   "display_name": "base",
   "language": "python",
   "name": "python3"
  },
  "language_info": {
   "codemirror_mode": {
    "name": "ipython",
    "version": 3
   },
   "file_extension": ".py",
   "mimetype": "text/x-python",
   "name": "python",
   "nbconvert_exporter": "python",
   "pygments_lexer": "ipython3",
   "version": "3.11.2"
  },
  "orig_nbformat": 4
 },
 "nbformat": 4,
 "nbformat_minor": 2
}
