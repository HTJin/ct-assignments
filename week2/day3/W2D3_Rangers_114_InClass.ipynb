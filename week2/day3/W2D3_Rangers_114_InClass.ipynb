{
 "cells": [
  {
   "cell_type": "markdown",
   "metadata": {},
   "source": [
    "# Dictionaries & Sets"
   ]
  },
  {
   "cell_type": "markdown",
   "metadata": {},
   "source": [
    "## Tasks Today:\n",
    "\n",
    "1) Dictionary <br>\n",
    " &nbsp;&nbsp;&nbsp;&nbsp; a) Declaring (key, value) <br>\n",
    " &nbsp;&nbsp;&nbsp;&nbsp; b) Accessing Values <br>\n",
    " &nbsp;&nbsp;&nbsp;&nbsp; ------ Exercise #1 - Print the eye color of each person in a double nested dict <br>\n",
    " &nbsp;&nbsp;&nbsp;&nbsp; c) Adding New Pairs <br>\n",
    " &nbsp;&nbsp;&nbsp;&nbsp; d) Modifying Values <br>\n",
    " &nbsp;&nbsp;&nbsp;&nbsp; e) Removing Key, Value Pairs <br>\n",
    " &nbsp;&nbsp;&nbsp;&nbsp; f) Looping a Dictionary <br>\n",
    " &nbsp;&nbsp;&nbsp;&nbsp; g) Looping Only Keys <br>\n",
    " &nbsp;&nbsp;&nbsp;&nbsp; h) Looping Only Values <br>\n",
    " &nbsp;&nbsp;&nbsp;&nbsp; ------ Exercise #2 - Create a program\n",
    " that Prints All Key Value Pairs within a print .format()  <br>\n",
    " &nbsp;&nbsp;&nbsp;&nbsp; i) sorted() <br>\n",
    " &nbsp;&nbsp;&nbsp;&nbsp; j) Lists with Dictionaries <br>\n",
    " &nbsp;&nbsp;&nbsp;&nbsp; k) Dictionaries with Lists <br>\n",
    " &nbsp;&nbsp;&nbsp;&nbsp; l) Dictionaries with Dictionaries <br>\n",
    " &nbsp;&nbsp;&nbsp;&nbsp; ------ Exercise #3 - Write a Function that asks someone's name and address, and then stores that into a dictionary, which prints all names and addresses after they're done putting information in...  <br>\n",
    "2) Dictionaries vs. Lists (over time)<br>\n",
    "3) Set <br>\n",
    " &nbsp;&nbsp;&nbsp;&nbsp; a) Declaring <br>\n",
    " &nbsp;&nbsp;&nbsp;&nbsp; b) .add() <br>\n",
    " &nbsp;&nbsp;&nbsp;&nbsp; c) .remove() <br>\n",
    " &nbsp;&nbsp;&nbsp;&nbsp; d) .union() <br>\n",
    " &nbsp;&nbsp;&nbsp;&nbsp; e) .intersection() <br>\n",
    " &nbsp;&nbsp;&nbsp;&nbsp; f) .difference() <br>\n",
    " &nbsp;&nbsp;&nbsp;&nbsp; g) Frozen Set <br>\n",
    "4) Modules <br>\n",
    " &nbsp;&nbsp;&nbsp;&nbsp; a) Importing Entire Modules <br>\n",
    " &nbsp;&nbsp;&nbsp;&nbsp; b) Importing Methods Only <br>\n",
    " &nbsp;&nbsp;&nbsp;&nbsp; c) Using the 'as' Keyword <br>\n",
    " &nbsp;&nbsp;&nbsp;&nbsp; d) Creating a Module <br>\n",
    "5) Exercises <br>\n",
    " &nbsp;&nbsp;&nbsp;&nbsp; a) Build a Shopping Cart <br>\n",
    " &nbsp;&nbsp;&nbsp;&nbsp; b) Create Your Own Module <br>"
   ]
  },
  {
   "cell_type": "markdown",
   "metadata": {},
   "source": [
    "## Dictionary <br>\n",
    "<p>A collection of data with 'key:value' pairs. Dictionaries are ordered as of Python 3.6</p>"
   ]
  },
  {
   "cell_type": "markdown",
   "metadata": {},
   "source": [
    "##### Declaring (key, value)"
   ]
  },
  {
   "cell_type": "code",
   "execution_count": 2,
   "metadata": {},
   "outputs": [],
   "source": [
    "# keys always need to be unique\n",
    "# can use integers(numbers) or strings as keys\n",
    "\n",
    "d_1 = {} # <-- empty dictionary\n",
    "d_2 = dict()\n",
    "\n",
    "d_3 = {\n",
    "    \"Tom\": \"255 Main Street\",\n",
    "    \"Jerry\": \"256 Main Street\",\n",
    "    0: \"This is a zero\"\n",
    "}"
   ]
  },
  {
   "cell_type": "markdown",
   "metadata": {},
   "source": [
    "##### Accessing Values"
   ]
  },
  {
   "cell_type": "code",
   "execution_count": 4,
   "metadata": {},
   "outputs": [
    {
     "name": "stdout",
     "output_type": "stream",
     "text": [
      "255 Main Street\n",
      "256 Main Street\n",
      "This is a zero\n"
     ]
    }
   ],
   "source": [
    "# dict[key] this will give back the value\n",
    "print(d_3[\"Tom\"])\n",
    "print(d_3['Jerry'])\n",
    "print(d_3[0])"
   ]
  },
  {
   "cell_type": "code",
   "execution_count": 5,
   "metadata": {},
   "outputs": [
    {
     "name": "stdout",
     "output_type": "stream",
     "text": [
      "dragon statue\n"
     ]
    }
   ],
   "source": [
    "# example of non-unique keys\n",
    "d_4 = {\n",
    "    \"name\": \"Mega Man\",\n",
    "    \"name\": \"dragon statue\"\n",
    "}\n",
    "\n",
    "print(d_4[\"name\"])"
   ]
  },
  {
   "cell_type": "markdown",
   "metadata": {},
   "source": [
    "## In-Class Exercise #1 - Print a formatted statement from the dictionary below <br>\n",
    "<p>The output should be '2018 Chevrolet Silverado'</p>"
   ]
  },
  {
   "cell_type": "code",
   "execution_count": 7,
   "metadata": {},
   "outputs": [
    {
     "name": "stdout",
     "output_type": "stream",
     "text": [
      "2018 Chevrolet Silverado\n"
     ]
    }
   ],
   "source": [
    "truck = {\n",
    "    \"year\": 2018,\n",
    "    \"make\": \"Chevrolet\",\n",
    "    \"model\": \"Silverado\"\n",
    "}\n",
    "\n",
    "print(f'{truck[\"year\"]} {truck[\"make\"]} {truck[\"model\"]}')"
   ]
  },
  {
   "cell_type": "markdown",
   "metadata": {},
   "source": [
    "##### Adding New Pairs"
   ]
  },
  {
   "cell_type": "code",
   "execution_count": 29,
   "metadata": {},
   "outputs": [
    {
     "name": "stdout",
     "output_type": "stream",
     "text": [
      "{'Tom': '255 Main Street', 'Jerry': '256 Main Street', 0: 'This is a 0', 'Spike': '257 Main Street', 'Tike': '257 Main Street'}\n"
     ]
    }
   ],
   "source": [
    "# dict[key] = value\n",
    "d_3 = {\n",
    "    \"Tom\": \"255 Main Street\",\n",
    "    \"Jerry\": \"256 Main Street\",\n",
    "    0: \"This is a 0\"\n",
    "}\n",
    "d_3['Spike'] = '257 Main Street'\n",
    "d_3['Tike'] = '257 Main Street'\n",
    "\n",
    "print(d_3)"
   ]
  },
  {
   "cell_type": "code",
   "execution_count": 14,
   "metadata": {},
   "outputs": [
    {
     "name": "stdout",
     "output_type": "stream",
     "text": [
      "{}\n",
      "{'beverage': 'water'}\n"
     ]
    }
   ],
   "source": [
    "d_4 = {}\n",
    "print(d_4)\n",
    "\n",
    "d_4[\"beverage\"] = \"water\"\n",
    "print(d_4)"
   ]
  },
  {
   "cell_type": "markdown",
   "metadata": {},
   "source": [
    "##### Modifying Values"
   ]
  },
  {
   "cell_type": "code",
   "execution_count": 15,
   "metadata": {},
   "outputs": [
    {
     "name": "stdout",
     "output_type": "stream",
     "text": [
      "{'beverage': 'water'}\n",
      "{'beverage': 'coffee'}\n"
     ]
    }
   ],
   "source": [
    "# dict[key] = \"new value\" if key already exists in dictionary\n",
    "print(d_4)\n",
    "d_4[\"beverage\"] = \"coffee\"\n",
    "print(d_4)"
   ]
  },
  {
   "cell_type": "code",
   "execution_count": 17,
   "metadata": {},
   "outputs": [
    {
     "name": "stdout",
     "output_type": "stream",
     "text": [
      "{'beverage': 'coffee', 'beverage2': 'topo chico'}\n"
     ]
    }
   ],
   "source": [
    "drink = \"belle vie\"\n",
    "if 'beverage2' not in d_4:\n",
    "    d_4['beverage2'] = drink\n",
    "else:\n",
    "    d_4['beverage2'] = 'topo chico'\n",
    "\n",
    "print(d_4)"
   ]
  },
  {
   "cell_type": "code",
   "execution_count": 18,
   "metadata": {},
   "outputs": [
    {
     "name": "stdout",
     "output_type": "stream",
     "text": [
      "{'Tom': '255 Main Street', 'Jerry': '255 Main Street', 0: 'This is a 0', 'Spike': '257 Main Street', 'Tike': '257 Main Street'}\n"
     ]
    }
   ],
   "source": [
    "d_3['Jerry'] = '255 Main Street'\n",
    "print(d_3)"
   ]
  },
  {
   "cell_type": "markdown",
   "metadata": {},
   "source": [
    "##### Removing Key, Value Pairs"
   ]
  },
  {
   "cell_type": "code",
   "execution_count": 27,
   "metadata": {},
   "outputs": [
    {
     "name": "stdout",
     "output_type": "stream",
     "text": [
      "{'Tom': '255 Main Street', 'Jerry': '256 Main Street', 0: 'This is a 0', 'Spike': '257 Main Street', 'Tike': '257 Main Street'}\n",
      "{'Tom': '255 Main Street', 'Jerry': '256 Main Street', 'Spike': '257 Main Street', 'Tike': '257 Main Street'}\n"
     ]
    }
   ],
   "source": [
    "# del dict[key]\n",
    "# del(my_list[0] or del dict[key] or del my_list[0])\n",
    "\n",
    "print(d_3)\n",
    "\n",
    "del d_3[0]\n",
    "\n",
    "print(d_3)"
   ]
  },
  {
   "cell_type": "markdown",
   "metadata": {},
   "source": [
    "##### Looping a Dictionary"
   ]
  },
  {
   "cell_type": "code",
   "execution_count": 31,
   "metadata": {},
   "outputs": [
    {
     "name": "stdout",
     "output_type": "stream",
     "text": [
      "Tom lives at this address: 255 Main Street\n",
      "Jerry lives at this address: 256 Main Street\n",
      "0 lives at this address: This is a 0\n",
      "Spike lives at this address: 257 Main Street\n",
      "Tike lives at this address: 257 Main Street\n"
     ]
    }
   ],
   "source": [
    "# dict.items()\n",
    "for name, address in d_3.items():\n",
    "    print(f'{name} lives at this address: {address}')"
   ]
  },
  {
   "cell_type": "code",
   "execution_count": 35,
   "metadata": {},
   "outputs": [
    {
     "name": "stdout",
     "output_type": "stream",
     "text": [
      "0 Desiree\n",
      "1 Chuck\n",
      "2 Hyun-Tae\n",
      "3 Alex\n",
      "4 Abdel\n",
      "{0: 'Desiree', 1: 'Chuck', 2: 'Hyun-Tae', 3: 'Alex', 4: 'Abdel'}\n",
      "{0: 'Desiree', 1: 'Chuck', 2: 'Hyun-Tae', 3: 'Alex', 4: 'Abdel'}\n"
     ]
    }
   ],
   "source": [
    "# enumerating a list and adding it to a dictionary\n",
    "my_list = [\"Desiree\", \"Chuck\", \"Hyun-Tae\", \"Alex\", \"Abdel\"]\n",
    "names_dict = {}\n",
    "\n",
    "for i, name in enumerate(my_list):\n",
    "    names_dict[i] = name\n",
    "\n",
    "for k, v in names_dict.items():\n",
    "    print(k, v)\n",
    "print(names_dict)\n",
    "\n",
    "print({k: v for k, v in enumerate(my_list)})"
   ]
  },
  {
   "cell_type": "markdown",
   "metadata": {},
   "source": [
    "##### Looping Only Keys"
   ]
  },
  {
   "cell_type": "code",
   "execution_count": 36,
   "metadata": {},
   "outputs": [
    {
     "name": "stdout",
     "output_type": "stream",
     "text": [
      "Tom\n",
      "Spike\n",
      "Tike\n",
      "Jerry\n",
      "\n",
      "\n",
      "Tom\n",
      "Spike\n",
      "Tike\n",
      "Jerry\n"
     ]
    }
   ],
   "source": [
    "# dict.keys()\n",
    "d_3 = {\n",
    "    \"Tom\": \"255 Main Street\",\n",
    "    \"Spike\": \"257 Main Street\",\n",
    "    \"Tike\": \"257 Main Street\",\n",
    "    \"Jerry\": \"255 Main Street\"\n",
    "}\n",
    "for key in d_3:\n",
    "    print(key)\n",
    "print(\"\\n\")\n",
    "for name in d_3.keys():\n",
    "    print(name)"
   ]
  },
  {
   "cell_type": "markdown",
   "metadata": {},
   "source": [
    "##### Looping Only Values"
   ]
  },
  {
   "cell_type": "code",
   "execution_count": 44,
   "metadata": {
    "scrolled": true
   },
   "outputs": [
    {
     "name": "stdout",
     "output_type": "stream",
     "text": [
      "254 Main Street\n",
      "257 Main Street\n",
      "258 Main Street\n",
      "255 Main Street\n",
      "Tom Lives here\n",
      "257 Main Street 60618\n",
      "258 Main Street\n",
      "255 Main Street\n"
     ]
    }
   ],
   "source": [
    "# dict.values()\n",
    "d_3 = {\n",
    "    \"Tom\": \"254 Main Street\",\n",
    "    \"Spike\": \"257 Main Street\",\n",
    "    \"Tike\": \"258 Main Street\",\n",
    "    \"Jerry\": \"255 Main Street\"\n",
    "}\n",
    "\n",
    "for address in d_3.values():\n",
    "    print(address)\n",
    "\n",
    "for address in d_3.values():\n",
    "    if address == \"254 Main Street\":\n",
    "        print(\"Tom Lives here\")\n",
    "    elif address == \"257 Main Street\":\n",
    "        d_3[\"Spike\"] += \" 60618\"\n",
    "        print(d_3[\"Spike\"])\n",
    "    else:\n",
    "        print(address)"
   ]
  },
  {
   "cell_type": "markdown",
   "metadata": {},
   "source": [
    "## In-Class Exercise #2 - Create a Function that Prints All Key Value Pairs within a formatted string  <br>\n",
    "<p><b>Output should be:</b><br>\n",
    "Max has blue eyes<br>\n",
    "Lilly has brown eyes<br>\n",
    "Barney has blue eyes<br>\n",
    "etc.\n",
    "</p>"
   ]
  },
  {
   "cell_type": "code",
   "execution_count": 46,
   "metadata": {},
   "outputs": [
    {
     "name": "stdout",
     "output_type": "stream",
     "text": [
      "Max has blue eyes\n",
      "Lilly has brown eyes\n",
      "Barney has green eyes\n",
      "Ted has purple eyes\n",
      "Sasuke has sharingan eyes\n"
     ]
    }
   ],
   "source": [
    "# use the dict below\n",
    "people = {\n",
    "    'Max' : 'blue',\n",
    "    'Lilly' : 'brown',\n",
    "    'Barney' : 'green',\n",
    "    'Ted' : 'purple',\n",
    "    'Sasuke' : 'sharingan'    \n",
    "}\n",
    "\n",
    "def eyeColors(people_dict):\n",
    "    for name, color in people_dict.items():\n",
    "        print(f'{name} has {color} eyes')\n",
    "    \n",
    "eyeColors(people)"
   ]
  },
  {
   "cell_type": "markdown",
   "metadata": {},
   "source": [
    "##### sorted()"
   ]
  },
  {
   "cell_type": "code",
   "execution_count": 53,
   "metadata": {},
   "outputs": [
    {
     "name": "stdout",
     "output_type": "stream",
     "text": [
      "Values: ['blue', 'brown', 'green', 'purple', 'sharingan']\n",
      "Keys: ['Barney', 'Lilly', 'Max', 'Sasuke', 'Ted']\n",
      "Key, Value pairs: [('Barney', 'green'), ('Lilly', 'brown'), ('Max', 'blue'), ('Sasuke', 'sharingan'), ('Ted', 'purple')]\n",
      "Key, Value pairs: [('Barney', 'green'), ('Lilly', 'brown'), ('Max', 'blue'), ('Sasuke', 'sharingan'), ('Ted', 'purple')]\n"
     ]
    }
   ],
   "source": [
    "# if we wrap dict.items() with sorted() it returns a list of tuples sorted by key\n",
    "print(\"Values:\", sorted(people.values()))\n",
    "print(\"Keys:\", sorted(people.keys()))\n",
    "print(\"Key, Value pairs:\", sorted(people.items()))"
   ]
  },
  {
   "cell_type": "code",
   "execution_count": 62,
   "metadata": {},
   "outputs": [
    {
     "name": "stdout",
     "output_type": "stream",
     "text": [
      "green\n"
     ]
    }
   ],
   "source": [
    "# indexing into a list with iterables inside of it\n",
    "sorted_items = sorted(people.items())\n",
    "print(sorted_items[0][1])"
   ]
  },
  {
   "cell_type": "code",
   "execution_count": 57,
   "metadata": {},
   "outputs": [
    {
     "name": "stdout",
     "output_type": "stream",
     "text": [
      "{'a': 1, 'b': 2, 'c': 3}\n"
     ]
    }
   ],
   "source": [
    "my_dict = {'c': 3, 'a': 1, 'b': 2}\n",
    "sorted_dict = dict(sorted(my_dict.items(), key=lambda item: item[1]))\n",
    "print(sorted_dict)"
   ]
  },
  {
   "cell_type": "markdown",
   "metadata": {},
   "source": [
    "##### List with Dictionaries"
   ]
  },
  {
   "cell_type": "code",
   "execution_count": 65,
   "metadata": {},
   "outputs": [
    {
     "name": "stdout",
     "output_type": "stream",
     "text": [
      "Gaara\n",
      "Naruto\n",
      "{'leaf_village': 'Naruto', 'leaf_village2': 'Kakashi'}\n",
      "Kakashi\n"
     ]
    }
   ],
   "source": [
    "shinobi = ['Shikamaru', 'Gaara', 'OctoPops', {'leaf_village': 'Naruto', 'leaf_village2': 'Kakashi'}]\n",
    "print(shinobi[1])\n",
    "print(shinobi[3]['leaf_village'])\n",
    "\n",
    "print(shinobi[-1])\n",
    "print(shinobi[-1]['leaf_village2'])"
   ]
  },
  {
   "cell_type": "code",
   "execution_count": 66,
   "metadata": {},
   "outputs": [
    {
     "name": "stdout",
     "output_type": "stream",
     "text": [
      "['Dave', 'Sandy', 'Tony', {'random_person1': 'Barb', 'random_person2': 'Bart'}, 'Tom']\n",
      "Barb\n"
     ]
    }
   ],
   "source": [
    "names = [\"Dave\", \"Sandy\", \"Tony\", {\"random_person1\" : \"Barb\", \"random_person2\" : \"Bart\"}, \"Tom\"]\n",
    "print(names)\n",
    "print(names[3]['random_person1'])"
   ]
  },
  {
   "cell_type": "markdown",
   "metadata": {},
   "source": [
    "##### Dictionaries with Lists"
   ]
  },
  {
   "cell_type": "code",
   "execution_count": 69,
   "metadata": {},
   "outputs": [
    {
     "name": "stdout",
     "output_type": "stream",
     "text": [
      "90\n",
      "John\n",
      "Laura\n",
      "Bulbasaur\n"
     ]
    }
   ],
   "source": [
    "random_data = {\n",
    "    \"list_1\": [54, 67, 90],\n",
    "    \"names\": ['John', 'Laura', \"Bulbasaur\"]\n",
    "}\n",
    "\n",
    "print(random_data[\"list_1\"][2])\n",
    "\n",
    "for name in random_data['names']:\n",
    "    print(name)"
   ]
  },
  {
   "cell_type": "markdown",
   "metadata": {},
   "source": [
    "##### Dictionaries with Dictionaries"
   ]
  },
  {
   "cell_type": "code",
   "execution_count": 73,
   "metadata": {
    "scrolled": true
   },
   "outputs": [
    {
     "name": "stdout",
     "output_type": "stream",
     "text": [
      "\n",
      "Here are all our favorite foods!!!\n",
      "\n",
      "Ryan's favorite foods are: \n",
      "Tacos\n",
      "Tortas\n",
      "Burritos\n",
      "Pie\n",
      "Brownies\n",
      "Chocolate Chip Cookies\n",
      "\n",
      "Alex's favorite foods are: \n",
      "Pupusas\n",
      "Tacos\n",
      "Fajitas\n",
      "Pastries\n",
      "Ice Cream\n",
      "Canollis\n",
      "Cheesecake\n",
      "Chantilly Cupcakes\n",
      "Cobbler\n",
      "Pie\n",
      "\n",
      "Ethan's favorite foods are: \n",
      "KGLW\n",
      "Uncle Spudd\n",
      "Your moms house\n",
      "MF DOOM\n",
      "Kendrick\n",
      "Andrae 3000\n",
      "\n",
      "Enoch's favorite foods are: \n",
      "Sushi\n",
      "Tempura\n",
      "Onigiri\n",
      "Cheesecake\n",
      "Applie Pie\n",
      "Yuzu Creme Brulee\n",
      "\n",
      "Htae's favorite foods are: \n",
      "Miso\n",
      "Shoyu\n",
      "Shin\n",
      "Dr.Pepper\n",
      "Water\n",
      "Boba tea\n",
      "\n",
      "Dez's favorite foods are: \n",
      "Sushi\n",
      "Ramen\n",
      "Pho\n",
      "Curry\n",
      "Sidecar\n",
      "Sk's\n",
      "Doughnuttery\n",
      "\n",
      "Dharti's favorite foods are: \n",
      "Paneer\n",
      "Rajma\n",
      "Naan\n",
      "Jalabi\n",
      "Mohanthal\n",
      "icecream\n",
      "\n",
      "Lyle's favorite foods are: \n",
      "airmax\n",
      "jordan\n",
      "cortez\n",
      "stansmiths\n",
      "promodel\n",
      "nmd\n",
      "\n",
      "Daniel's favorite foods are: \n",
      "garri\n",
      "fufu\n",
      "egusi\n",
      "rice\n",
      "beans\n",
      "eba\n",
      "\n",
      "Chuck's favorite foods are: \n",
      "Cheese_Burger\n",
      "Fries\n",
      "Coke\n",
      "Cheese_Cake\n",
      "Milk_Shake\n",
      "Cake\n",
      "\n",
      "Ben's favorite foods are: \n",
      "Tika Masala\n",
      "Naan\n",
      "Chapati\n",
      "Chicken Curry\n",
      "Fish Curry\n",
      "Cheesecake\n",
      "Empanadas\n",
      "Churros\n",
      "Ice Cream\n",
      "Mangonada\n",
      "\n",
      "Ewa's favorite foods are: \n",
      "Pizza\n",
      "Pasta\n",
      "Dessert\n",
      "Tacos\n",
      "Burritos\n",
      "Dessert\n",
      "\n",
      "Salim's favorite foods are: \n",
      "lent soup , kebaba , Gyro \n",
      "Baklava, basbousa ,maamoul\n"
     ]
    }
   ],
   "source": [
    "food_dict = {\n",
    "    \"Ryan\": {\n",
    "        \"Mexican\": [\"Tacos\", \"Tortas\", \"Burritos\"],\n",
    "        \"Desserts\": ['Pie', \"Brownies\", \"Chocolate Chip Cookies\"]\n",
    "    },\n",
    "    \"Alex\": {\n",
    "        \"Hispanic\": ['Pupusas', 'Tacos', 'Fajitas'],\n",
    "        \"Sweets\": ['Pastries', 'Ice Cream', 'Canollis'],\n",
    "        \"More Sweets\" : ['Cheesecake', 'Chantilly Cupcakes', 'Cobbler', 'Pie']\n",
    "    },\n",
    "     \"Ethan\": {\n",
    "        \"Rock\": ['KGLW', 'Uncle Spudd', 'Your moms house'], \n",
    "        'Rap': ['MF DOOM', 'Kendrick', 'Andrae 3000']\n",
    "    },\n",
    "    \"Enoch\": {\n",
    "        \"Japanese\":[\"Sushi\", \"Tempura\", \"Onigiri\"],\n",
    "        \"Desserts\":[\"Cheesecake\", \"Applie Pie\", \"Yuzu Creme Brulee\"]\n",
    "    },\n",
    "    \"Htae\": {\n",
    "        \"Ramen\": [\"Miso\", \"Shoyu\", \"Shin\"],\n",
    "        \"Drinks\": [\"Dr.Pepper\", \"Water\", \"Boba tea\"]\n",
    "    },\n",
    "    \"Dez\": {\n",
    "        \"Asian\":[\"Sushi\", \"Ramen\", \"Pho\", \"Curry\"],\n",
    "        \"Doughnt_shops\": [\"Sidecar\",\"Sk's\", \"Doughnuttery\"]\n",
    "    },\n",
    "    \"Dharti\": {\n",
    "        \"Indian\": [\"Paneer\",\"Rajma\",\"Naan\"],\n",
    "        \"Sweet\": [\"Jalabi\",\"Mohanthal\",\"icecream\"]\n",
    "    },\n",
    "      \"Lyle\": {\n",
    "        'nike': ['airmax', 'jordan', 'cortez'],\n",
    "        'adidas': ['stansmiths', 'promodel', 'nmd']\n",
    "    },\n",
    "    'Daniel' :{\n",
    "    'Afri':['garri', 'fufu', 'egusi'],\n",
    "    'easyfood':['rice', 'beans', 'eba']\n",
    "    },\n",
    "    \"Chuck\": {\n",
    "       \"American\" : ['Cheese_Burger', 'Fries', 'Coke'],\n",
    "       \"Desserts\" : ['Cheese_Cake', 'Milk_Shake', 'Cake'],\n",
    "    },\n",
    "    \"Ben\": {\n",
    "    \"Indian\": [\"Tika Masala\", \"Naan\", \"Chapati\", \"Chicken Curry\", \"Fish Curry\"],\n",
    "    \"Desserts\": [\"Cheesecake\", \"Empanadas\", \"Churros\", \"Ice Cream\", \"Mangonada\"],\n",
    "    },\n",
    "    'Ewa': {\n",
    "        'Italian': {\n",
    "        'Pizza': ['Margherita', 'Pepperoni', 'Capricciosa'],\n",
    "        'Pasta': ['Spaghetti Bolognese', 'Carbonara', 'Pesto'],\n",
    "        'Dessert': ['Tiramisu', 'Panna Cotta', 'Cannoli']\n",
    "    },\n",
    "    \n",
    "    'Mexican': {\n",
    "        'Tacos': ['Al Pastor', 'Carnitas', 'Barbacoa'],\n",
    "        'Burritos': ['Bean and Cheese', 'Carne Asada', 'Chicken'],\n",
    "        'Dessert': ['Churros', 'Flan', 'Sopapillas']\n",
    "    }},\n",
    "     \"Salim\" : {\n",
    "        \"turkish\" :[\"lent soup , kebaba , Gyro \"],\n",
    "        \"Dessert\" :[\"Baklava, basbousa ,maamoul\"]\n",
    "    }    \n",
    "}\n",
    "\n",
    "print('\\nHere are all our favorite foods!!!')\n",
    "for name in food_dict.keys():\n",
    "    print(f\"\\n{name}'s favorite foods are: \")\n",
    "    for food_type in food_dict[name].keys():\n",
    "        for food in food_dict[name][food_type]:\n",
    "            print(food)"
   ]
  },
  {
   "cell_type": "markdown",
   "metadata": {},
   "source": [
    "## Dictionaries vs. Lists (over time) Example of RUNTIME\n",
    "### When inputting values in a Dictionary vs List"
   ]
  },
  {
   "cell_type": "code",
   "execution_count": 75,
   "metadata": {},
   "outputs": [],
   "source": [
    "import time\n",
    "\n",
    "# generate dictionary\n",
    "d = {}\n",
    "for i in range(10000000):\n",
    "    d[i] = \"value \" + str(i)\n",
    "\n",
    "# generate a list\n",
    "big_list = [x for x in range(10000000)]"
   ]
  },
  {
   "cell_type": "code",
   "execution_count": 76,
   "metadata": {},
   "outputs": [
    {
     "name": "stdout",
     "output_type": "stream",
     "text": [
      "value 9999999\n",
      "elapsed time for dictionary: 0.0005190372467041016\n",
      "9999999\n",
      "elapsed time for list: 0.5102434158325195\n"
     ]
    }
   ],
   "source": [
    "# track time for the dictionary\n",
    "start_time = time.time()\n",
    "\n",
    "print(d[9999999])\n",
    "\n",
    "end_time = time.time() - start_time\n",
    "\n",
    "print(f'elapsed time for dictionary: {end_time}')\n",
    "\n",
    "# tracking time for the list\n",
    "start_time = time.time()\n",
    "\n",
    "for i in range(len(big_list)):\n",
    "    if i == 9999999:\n",
    "        print(i)\n",
    "\n",
    "end_time = time.time() - start_time\n",
    "print(f'elapsed time for list: {end_time}')"
   ]
  },
  {
   "cell_type": "markdown",
   "metadata": {},
   "source": [
    "## Exercise #3 - Write a Function that asks someone's name and address, and then stores that into a dictionary, and continues to do so until they choose to 'quit'. Once they quit, the program should print all names and addresses. <br>\n",
    "<p>\n",
    "<b>Proper steps:</b><br>\n",
    "step 1: write a function that takes in information and stores it in a dictionary<br>\n",
    "step 2: define an empty dictionary to work with<br>\n",
    "step 3: create our loop, which asks the user for information until they quit<br>\n",
    "step 4: ask for the information, and store it into variables<br>\n",
    "step 5: check if the user types quit<br>\n",
    "step 5a: print out all information<br>\n",
    "step 5b: break out of the loop<br>\n",
    "step 6: if they didn't quit, add the information to the dictionary<br>\n",
    "step 7: invoke the function by calling it\n",
    "</p>"
   ]
  },
  {
   "cell_type": "code",
   "execution_count": 79,
   "metadata": {},
   "outputs": [
    {
     "name": "stdout",
     "output_type": "stream",
     "text": [
      "The address for htae, is 28423 asdiolfji iasdjl. Go visit them! But call first cause otherwise thats rude.\n",
      "The address for bob, is asiodjf 123312 1ji1ji. Go visit them! But call first cause otherwise thats rude.\n"
     ]
    }
   ],
   "source": [
    "# step 2\n",
    "info = {}\n",
    "\n",
    "# step 3\n",
    "while True:\n",
    "    # step 4\n",
    "    name = input(\"Enter a name or say 'quit' to quit: \")\n",
    "    if name.lower().strip() != 'quit':\n",
    "        address = input(\"Enter an address or say 'quit' to quit: \")\n",
    "    \n",
    "    # step 5\n",
    "    if name.lower().strip() == 'quit' or address.lower().strip() == 'quit':\n",
    "        # step 5a\n",
    "        for k, v in info.items():\n",
    "            print(f'The address for {k}, is {v}. Go visit them! But call first cause otherwise thats rude.')\n",
    "        break\n",
    "    \n",
    "    info[name] = address"
   ]
  },
  {
   "cell_type": "markdown",
   "metadata": {},
   "source": [
    "## Set <br>\n",
    "<p>A Set is an unordered collection data type that is iterable (loop), mutable, and has no duplicate elements.<br>Major advantage is that it is highly optimized in checking if something is in the set, as opposed to checking if something is in a list.</p>"
   ]
  },
  {
   "cell_type": "markdown",
   "metadata": {},
   "source": [
    "##### Declaring"
   ]
  },
  {
   "cell_type": "code",
   "execution_count": 82,
   "metadata": {
    "scrolled": false
   },
   "outputs": [
    {
     "name": "stdout",
     "output_type": "stream",
     "text": [
      "{8, 1, 4}\n",
      "{1, 2, 3, 4, 9}\n",
      "[1, 2, 3, 4, 9]\n",
      "5\n"
     ]
    }
   ],
   "source": [
    "# set() or {}\n",
    "# {no order {3, 2, 1} might output as {2, 3, 1}}\n",
    "\n",
    "nums = {4, 1, 8, 4}\n",
    "print(nums)\n",
    "\n",
    "# one way to remove all duplicates from a list\n",
    "my_list = [1, 1, 1, 1, 1, 2, 2, 2, 2, 3, 3, 3, 3, 4, 4, 9, 9, 9, 9]\n",
    "\n",
    "my_set = set(my_list)\n",
    "print(my_set)\n",
    "\n",
    "my_list = list(my_set)\n",
    "print(my_list)\n",
    "print(len(my_set))"
   ]
  },
  {
   "cell_type": "markdown",
   "metadata": {},
   "source": [
    "##### .add()"
   ]
  },
  {
   "cell_type": "code",
   "execution_count": 86,
   "metadata": {},
   "outputs": [
    {
     "name": "stdout",
     "output_type": "stream",
     "text": [
      "{2, 4, 5, 7, 9}\n",
      "{2, 4, 5, 22, 7, 9}\n",
      "{2, 4, 5, 22, 7, 'Hello', 9}\n",
      "{2, 4, 5, 22, 7, 'Hello', 9}\n"
     ]
    }
   ],
   "source": [
    "# set.add()\n",
    "\n",
    "my_set = {2, 5, 4, 7, 9}\n",
    "print(my_set)\n",
    "my_set.add(22)\n",
    "print(my_set)\n",
    "\n",
    "my_set.add('Hello')\n",
    "print(my_set)\n",
    "\n",
    "my_set.add(2)\n",
    "print(my_set)"
   ]
  },
  {
   "cell_type": "markdown",
   "metadata": {},
   "source": [
    "##### .remove()"
   ]
  },
  {
   "cell_type": "code",
   "execution_count": 87,
   "metadata": {},
   "outputs": [
    {
     "name": "stdout",
     "output_type": "stream",
     "text": [
      "{4, 5, 7, 9}\n",
      "{4, 5, 7}\n"
     ]
    }
   ],
   "source": [
    "# set.remove(value)\n",
    "\n",
    "my_set = {2, 5, 4, 7, 9}\n",
    "\n",
    "my_set.remove(2)\n",
    "print(my_set)\n",
    "\n",
    "my_set.remove(9)\n",
    "print(my_set)"
   ]
  },
  {
   "cell_type": "markdown",
   "metadata": {},
   "source": [
    "##### .union() "
   ]
  },
  {
   "cell_type": "code",
   "execution_count": 89,
   "metadata": {},
   "outputs": [
    {
     "name": "stdout",
     "output_type": "stream",
     "text": [
      "{1, 2, 3, 4, 5, 6}\n",
      "{1, 2, 3, 4, 5, 6}\n"
     ]
    }
   ],
   "source": [
    "# union will combine two sets\n",
    "# can also use | in place of .union()\n",
    "# set.union(set2)\n",
    "\n",
    "s1 = {1, 2, 3, 4}\n",
    "s2 = {3, 4, 5, 6}\n",
    "s3 = s1.union(s2)\n",
    "print(s3)\n",
    "\n",
    "s4 = s2 | s1\n",
    "print(s4)"
   ]
  },
  {
   "cell_type": "markdown",
   "metadata": {},
   "source": [
    "##### .intersection()"
   ]
  },
  {
   "cell_type": "code",
   "execution_count": 90,
   "metadata": {},
   "outputs": [
    {
     "name": "stdout",
     "output_type": "stream",
     "text": [
      "{3, 4}\n",
      "{3, 4}\n"
     ]
    }
   ],
   "source": [
    "# return an intersection of two sets, can also use &\n",
    "# only return the similar elements of both sets\n",
    "s1 = {1, 2, 3, 4}\n",
    "s2 = {3, 4, 5, 6}\n",
    "s3 = s2.intersection(s1)\n",
    "print(s3)\n",
    "\n",
    "s4 = s2 & s1\n",
    "print(s4)"
   ]
  },
  {
   "cell_type": "markdown",
   "metadata": {},
   "source": [
    "##### .difference()"
   ]
  },
  {
   "cell_type": "code",
   "execution_count": 95,
   "metadata": {},
   "outputs": [
    {
     "name": "stdout",
     "output_type": "stream",
     "text": [
      "{1, 2}\n",
      "{5, 6}\n",
      "{5, 6}\n"
     ]
    }
   ],
   "source": [
    "# returns a set containing the elements of the invoking set that are not in the second set\n",
    "# can also use '-'\n",
    "# order matters\n",
    "s1 = {1, 2, 3, 4}\n",
    "s2 = {3, 4, 5, 6}\n",
    "\n",
    "s7 = s1 - s2\n",
    "print(s7)\n",
    "\n",
    "s8 = s2 - s1\n",
    "print(s8)\n",
    "s9 = s2.difference(s1)\n",
    "print(s9)"
   ]
  },
  {
   "cell_type": "markdown",
   "metadata": {},
   "source": [
    "##### .clear()"
   ]
  },
  {
   "cell_type": "code",
   "execution_count": 94,
   "metadata": {},
   "outputs": [
    {
     "name": "stdout",
     "output_type": "stream",
     "text": [
      "{3, 4, 5, 24, 11, 12}\n",
      "set()\n"
     ]
    }
   ],
   "source": [
    "# empties the whole set\n",
    "# set.clear()\n",
    "another_set = {3, 4, 5, 12, 11, 24}\n",
    "print(another_set)\n",
    "\n",
    "another_set.clear()\n",
    "\n",
    "print(another_set)"
   ]
  },
  {
   "cell_type": "markdown",
   "metadata": {},
   "source": [
    "##### Frozenset <br>\n",
    "<p>Frozen sets are immutable objects that only support methods and operators that produce a result without affecting the frozen set or sets to which they are applied.</p><br><b>Unique & Immutable</b>"
   ]
  },
  {
   "cell_type": "code",
   "execution_count": 100,
   "metadata": {},
   "outputs": [
    {
     "name": "stdout",
     "output_type": "stream",
     "text": [
      "{2, 3, 4, 5, 'hello', 7, 'my dog is neat'}\n",
      "frozenset({2, 3, 4, 5, 'hello', 7, 'my dog is neat'})\n",
      "frozenset({2, 3, 4, 5, 'hello', 7, 'my dog is neat'})\n",
      "{2, 3, 4, 5, 'hello', 7, 'cool beans', 'my dog is neat'}\n",
      "frozenset({2, 3, 4, 5, 'hello', 7, 'cool beans', 'my dog is neat'})\n"
     ]
    }
   ],
   "source": [
    "# frozenset()\n",
    "my_set = {2, 3, 4, 'hello', 7, 'my dog is neat', 5}\n",
    "print(my_set)\n",
    "\n",
    "frozen_set = frozenset(my_set)\n",
    "print(frozen_set)\n",
    "\n",
    "new_set = set(frozen_set)\n",
    "print(frozen_set)\n",
    "\n",
    "new_set.add(\"cool beans\")\n",
    "print(new_set)\n",
    "\n",
    "frozen_set = frozenset(new_set)\n",
    "print(frozen_set)"
   ]
  },
  {
   "cell_type": "markdown",
   "metadata": {},
   "source": [
    "# Exercises"
   ]
  },
  {
   "cell_type": "markdown",
   "metadata": {},
   "source": [
    "### 1) Build a Shopping Cart <br>\n",
    "<p><b>You can use either lists or dictionaries. The program should have the following capabilities:</b><br><br>\n",
    "1) Takes in input <br>\n",
    "2) Stores user input into a dictionary or list <br>\n",
    "3) The User can add or delete items <br>\n",
    "4) The User can see current shopping list <br>\n",
    "5) The program Loops until user 'quits' <br>\n",
    "6) Upon quiting the program, print out all items in the user's list <br>\n",
    "</p>"
   ]
  },
  {
   "cell_type": "code",
   "execution_count": 7,
   "metadata": {},
   "outputs": [
    {
     "name": "stdout",
     "output_type": "stream",
     "text": [
      "Welcome to our Mart!\n",
      "------------------------------------------------------------------\n",
      "One Orange has been added to the cart.\n",
      "------------------------------------------------------------------\n",
      "One Banana has been added to the cart.\n",
      "------------------------------------------------------------------\n",
      "User input not recognized, please try again.\n",
      "------------------------------------------------------------------\n",
      "One Banana has been added to the cart.\n",
      "------------------------------------------------------------------\n",
      "One Apple has been added to the cart.\n",
      "------------------------------------------------------------------\n",
      "One Egg has been added to the cart.\n",
      "------------------------------------------------------------------\n",
      "Your shopping cart contains:\n",
      "Orange X 1\n",
      "Banana X 2\n",
      "Apple X 1\n",
      "Egg X 1\n",
      "------------------------------------------------------------------\n",
      "Thank you for shopping with us!\n",
      "------------------------------------------------------------------\n",
      "Your shopping cart contains:\n",
      "Orange\n",
      "\n",
      "Banana\n",
      "Banana\n",
      "\n",
      "Apple\n",
      "\n",
      "Egg\n",
      "\n",
      "------------------------------------------------------------------\n",
      "Good Bye :)\n"
     ]
    }
   ],
   "source": [
    "from IPython.display import clear_output\n",
    "\n",
    "# Ask the user four bits of input: Do you want to : Show/Add/Delete or Quit?\n",
    "cart = {}\n",
    "actions = ['show', 'add', 'delete', 'quit']\n",
    "divider = '------------------------------------------------------------------'\n",
    "\n",
    "print('Welcome to our Mart!')\n",
    "while True:\n",
    "  print(divider)\n",
    "  action = input('Show/Add/Delete or Quit? ').lower().strip()\n",
    "  if action not in actions:\n",
    "    print('User input not recognized, please try again.')\n",
    "  elif action == 'show':\n",
    "    if cart:\n",
    "      print('Your shopping cart contains:')\n",
    "      for item, quantity in cart.items():\n",
    "        print(f'{item} X {quantity}')\n",
    "    else:\n",
    "      print('Your shopping cart is empty.')\n",
    "  elif action == 'add':\n",
    "    add_item = input('Item to add: ').title().strip()\n",
    "    cart.setdefault(add_item, 0)\n",
    "    cart[add_item] += 1\n",
    "    print(f'One {add_item} has been added to the cart.')\n",
    "  elif action == 'delete':\n",
    "    delete_item = input('Item to delete: ').title().strip()\n",
    "    if delete_item not in cart:\n",
    "      print(f'{delete_item} was not found from the cart.')\n",
    "    elif delete_item in cart:\n",
    "      cart[delete_item] -= 1\n",
    "      print(f'One {delete_item} has been removed from the cart.')\n",
    "      if cart[delete_item] == 0:\n",
    "        removed = cart.pop(delete_item)\n",
    "  elif action == 'quit':\n",
    "    print('Thank you for shopping with us!')\n",
    "    print(divider)\n",
    "    if cart:\n",
    "      print('Your shopping cart contains:')\n",
    "      for item, quantity in cart.items():\n",
    "        print(f'{item}\\n'* quantity)\n",
    "    else:\n",
    "      print('Your shopping cart is empty.')\n",
    "      print(divider)\n",
    "      print('Good Bye :)')\n",
    "      break\n",
    "    print(divider)\n",
    "    print('Good Bye :)')\n",
    "    break\n",
    "  else:\n",
    "    break"
   ]
  },
  {
   "cell_type": "markdown",
   "metadata": {},
   "source": [
    "### 2) Set Practice"
   ]
  },
  {
   "cell_type": "markdown",
   "metadata": {},
   "source": [
    "<p><b>Remove all duplicates from the following list</b></p>"
   ]
  },
  {
   "cell_type": "code",
   "execution_count": 102,
   "metadata": {},
   "outputs": [
    {
     "name": "stdout",
     "output_type": "stream",
     "text": [
      "[1, 2, 3, 4, 5, 6, 11, 12, 14, 16]\n"
     ]
    }
   ],
   "source": [
    "nums_list = [1, 1, 1, 2, 2, 3, 5, 6, 4, 12, 11, 12, 12, 14, 16, 16, 16, 1, 1, 1, 2, 2]\n",
    "print(list(set(nums_list)))"
   ]
  },
  {
   "cell_type": "markdown",
   "metadata": {},
   "source": [
    "<p><b>Out put the intersection of the following the following sets.</b></p>"
   ]
  },
  {
   "cell_type": "code",
   "execution_count": 103,
   "metadata": {},
   "outputs": [
    {
     "name": "stdout",
     "output_type": "stream",
     "text": [
      "{26, 27}\n"
     ]
    }
   ],
   "source": [
    "set1 = {20, 24, 26, 27}\n",
    "set2 = {26, 35, 63, 27}\n",
    "\n",
    "print(set1 & set2)"
   ]
  },
  {
   "cell_type": "markdown",
   "metadata": {},
   "source": [
    "<p><b>Output the difference between the following sets</b></p>"
   ]
  },
  {
   "cell_type": "code",
   "execution_count": 104,
   "metadata": {},
   "outputs": [
    {
     "name": "stdout",
     "output_type": "stream",
     "text": [
      "{89, 100}\n",
      "{54, 103}\n"
     ]
    }
   ],
   "source": [
    "set3 = {100, 65, 89, 200}\n",
    "set4 = {65, 103, 54, 200}\n",
    "\n",
    "print(set3 - set4)\n",
    "print(set4 - set3)"
   ]
  }
 ],
 "metadata": {
  "kernelspec": {
   "display_name": "Python 3 (ipykernel)",
   "language": "python",
   "name": "python3"
  },
  "language_info": {
   "codemirror_mode": {
    "name": "ipython",
    "version": 3
   },
   "file_extension": ".py",
   "mimetype": "text/x-python",
   "name": "python",
   "nbconvert_exporter": "python",
   "pygments_lexer": "ipython3",
   "version": "3.9.13"
  }
 },
 "nbformat": 4,
 "nbformat_minor": 2
}
