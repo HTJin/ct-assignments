{
 "cells": [
  {
   "cell_type": "markdown",
   "metadata": {},
   "source": [
    "# Object-Oriented-Programming (OOP)"
   ]
  },
  {
   "cell_type": "markdown",
   "metadata": {},
   "source": [
    "## Tasks Today:\n",
    "\n",
    "   \n",
    "\n",
    "1) <b>Creating a Class (Initializing/Declaring)</b> <br>\n",
    "2) <b>Using a Class (Instantiating)</b> <br>\n",
    " &nbsp;&nbsp;&nbsp;&nbsp; a) Creating One Instance <br>\n",
    " &nbsp;&nbsp;&nbsp;&nbsp; b) Creating Multiple Instances <br>\n",
    " &nbsp;&nbsp;&nbsp;&nbsp; c) In-Class Exercise #1 - Create a Class 'Car' and instantiate three different makes of cars <br>\n",
    "3) <b>The \\__init\\__() Method</b> <br>\n",
    " &nbsp;&nbsp;&nbsp;&nbsp; a) The 'self' Attribute <br>\n",
    "4) <b>Class Attributes</b> <br>\n",
    " &nbsp;&nbsp;&nbsp;&nbsp; a) Initializing Attributes <br>\n",
    " &nbsp;&nbsp;&nbsp;&nbsp; b) Setting an Attribute Outside of the \\__init\\__() Method <br>\n",
    " &nbsp;&nbsp;&nbsp;&nbsp; c) Setting Defaults for Attributes <br>\n",
    " &nbsp;&nbsp;&nbsp;&nbsp; d) Accessing Class Attributes <br>\n",
    " &nbsp;&nbsp;&nbsp;&nbsp; e) Changing Class Attributes <br>\n",
    " &nbsp;&nbsp;&nbsp;&nbsp; f) In-Class Exercise #2 - Add a color and wheels attribute to your 'Car' class <br>\n",
    "5) <b>Class Methods</b> <br>\n",
    " &nbsp;&nbsp;&nbsp;&nbsp; a) Creating <br>\n",
    " &nbsp;&nbsp;&nbsp;&nbsp; b) Calling <br>\n",
    " &nbsp;&nbsp;&nbsp;&nbsp; c) Modifying an Attribute's Value Through a Method <br>\n",
    " &nbsp;&nbsp;&nbsp;&nbsp; d) Incrementing an Attribute's Value Through a Method <br>\n",
    " &nbsp;&nbsp;&nbsp;&nbsp; e) In-Class Exercise #3 - Add a method that prints the cars color and wheel number, then call them <br>\n",
    "6) <b>Inheritance</b> <br>\n",
    " &nbsp;&nbsp;&nbsp;&nbsp; a) Syntax for Inheriting from a Parent Class <br>\n",
    " &nbsp;&nbsp;&nbsp;&nbsp; b) The \\__init\\__() Method for a Child Class (super()) <br>\n",
    " &nbsp;&nbsp;&nbsp;&nbsp; c) Defining Attributes and Methods for the Child Class <br>\n",
    " &nbsp;&nbsp;&nbsp;&nbsp; d) Method Overriding <br>\n",
    " &nbsp;&nbsp;&nbsp;&nbsp; e) In-Class Exercise #4 - Create a class 'Ford' that inherits from 'Car' class and initialize it as a Blue Ford Explorer with 4 wheels using the super() method <br>\n",
    "7) <b>Classes as Attributes</b> <br>\n",
    "8) <b>Exercises</b> <br>\n",
    " &nbsp;&nbsp;&nbsp;&nbsp; a) Exercise #1 - Turn the shopping cart program from last week into an object-oriented program <br>"
   ]
  },
  {
   "cell_type": "markdown",
   "metadata": {},
   "source": [
    "## Creating a Class (Initializing/Declaring)\n",
    "<p>When creating a class, function, or even a variable you are initializing that object. Initializing and Declaring occur at the same time in Python, whereas in lower level languages you have to declare an object before initializing it. This is the first step in the process of using a class.</p>"
   ]
  },
  {
   "cell_type": "code",
   "execution_count": 1,
   "metadata": {},
   "outputs": [],
   "source": [
    "class Car():\n",
    "    wheels = 4\n",
    "    color = 'blue'"
   ]
  },
  {
   "cell_type": "markdown",
   "metadata": {},
   "source": [
    "## Using a Class (Instantiating)\n",
    "<p>The process of creating a class is called <i>Instantiating</i>. Each time you create a variable of that type of class, it is referred to as an <i>Instance</i> of that class. This is the second step in the process of using a class.</p>"
   ]
  },
  {
   "cell_type": "markdown",
   "metadata": {},
   "source": [
    "##### Creating One Instance"
   ]
  },
  {
   "cell_type": "code",
   "execution_count": 3,
   "metadata": {},
   "outputs": [
    {
     "name": "stdout",
     "output_type": "stream",
     "text": [
      "4\n",
      "blue\n",
      "{}\n"
     ]
    }
   ],
   "source": [
    "mazda = Car() # <-- need parenthesis\n",
    "print(mazda.wheels)\n",
    "print(mazda.color)\n",
    "\n",
    "print(mazda.__dict__)"
   ]
  },
  {
   "cell_type": "markdown",
   "metadata": {},
   "source": [
    "##### Creating Multiple Instances"
   ]
  },
  {
   "cell_type": "code",
   "execution_count": 4,
   "metadata": {},
   "outputs": [
    {
     "name": "stdout",
     "output_type": "stream",
     "text": [
      "4\n",
      "4\n",
      "blue\n"
     ]
    }
   ],
   "source": [
    "ford = Car()\n",
    "honda = Car()\n",
    "chevy = Car()\n",
    "\n",
    "print(ford.wheels)\n",
    "print(honda.wheels)\n",
    "print(chevy.color)"
   ]
  },
  {
   "cell_type": "markdown",
   "metadata": {},
   "source": [
    "##### In-Class Exercise #1 - Create a Class 'Car' and Instantiate three different makes of cars"
   ]
  },
  {
   "cell_type": "code",
   "execution_count": 9,
   "metadata": {},
   "outputs": [
    {
     "name": "stdout",
     "output_type": "stream",
     "text": [
      "subaru\n",
      "sedan\n",
      "2021\n"
     ]
    }
   ],
   "source": [
    "class Car():\n",
    "    size = 'sedan'\n",
    "    wheel = 4\n",
    "    year = 2021\n",
    "    company = ''\n",
    "\n",
    "subaru, subaru.company = Car(), 'subaru'\n",
    "tesla, tesla.company = Car(), 'tesla'\n",
    "dodge, dodge.company = Car(), 'dodge'\n",
    "\n",
    "print(subaru.company)\n",
    "print(tesla.size)\n",
    "print(dodge.year)"
   ]
  },
  {
   "cell_type": "markdown",
   "metadata": {},
   "source": [
    "## The \\__init\\__() Method <br>\n",
    "<p>This method is used in almost every created class, and called only once upon the creation of the class instance. This method will initialize all variables needed for the object.</p>"
   ]
  },
  {
   "cell_type": "code",
   "execution_count": 17,
   "metadata": {},
   "outputs": [
    {
     "name": "stdout",
     "output_type": "stream",
     "text": [
      "blue\n",
      "black\n",
      "5\n",
      "red\n",
      "red\n"
     ]
    }
   ],
   "source": [
    "class Car():\n",
    "    def __init__(self, wheels, color, doors):\n",
    "        self.wheels = wheels # honda.wheels, will be wheels argument passed into the parameter\n",
    "        self.color = color\n",
    "        self.doors = doors\n",
    "\n",
    "mazda = Car(4, 'blue', 4)\n",
    "chevy = Car(6, 'black', 4)\n",
    "subaru = Car(4, 'orange', 5)\n",
    "\n",
    "print(mazda.color)\n",
    "print(chevy.color)\n",
    "print(subaru.doors)\n",
    "\n",
    "mazda.color = 'red'\n",
    "print(mazda.color)\n",
    "\n",
    "print(mazda.__dict__['color'])"
   ]
  },
  {
   "cell_type": "markdown",
   "metadata": {},
   "source": [
    "##### The 'self' Attribute <br>\n",
    "<p>This attribute is required to keep track of specific instance's attributes. Without the self attribute, the program would not know how to reference or keep track of an instance's attributes.</p>"
   ]
  },
  {
   "cell_type": "code",
   "execution_count": 29,
   "metadata": {},
   "outputs": [],
   "source": [
    "class Pokemon():\n",
    "    def __init__(self, type_):\n",
    "        # self will hold the place of the object we eventually instantiate\n",
    "        self.name = self.set_name()\n",
    "        self.type = type_ # <-- underscore after type because is a reserved name for a function\n",
    "\n",
    "    def print_info(self): # class methods always take in self\n",
    "        print(f'This is {self.name}. It is a {self.type} type.')\n",
    "\n",
    "    def set_name(self):\n",
    "        name = input(\"What is your Pokemon's name? \")\n",
    "        return name"
   ]
  },
  {
   "cell_type": "markdown",
   "metadata": {},
   "source": [
    "## Class Attributes <br>\n",
    "<p>While variables are inside of a class, they are referred to as attributes and not variables. When someone says 'attribute' you know they're speaking about a class. Attributes can be initialized through the init method, or outside of it.</p>"
   ]
  },
  {
   "cell_type": "markdown",
   "metadata": {},
   "source": [
    "##### Initializing Attributes"
   ]
  },
  {
   "cell_type": "code",
   "execution_count": 30,
   "metadata": {},
   "outputs": [],
   "source": [
    "charmander = Pokemon('fire')"
   ]
  },
  {
   "cell_type": "markdown",
   "metadata": {},
   "source": [
    "##### Accessing Class Attributes"
   ]
  },
  {
   "cell_type": "code",
   "execution_count": 31,
   "metadata": {
    "scrolled": true
   },
   "outputs": [
    {
     "name": "stdout",
     "output_type": "stream",
     "text": [
      "Charmander\n",
      "fire\n",
      "{'name': 'Charmander', 'type': 'fire'}\n"
     ]
    }
   ],
   "source": [
    "print(charmander.name)\n",
    "print(charmander.type)\n",
    "print(charmander.__dict__)"
   ]
  },
  {
   "cell_type": "markdown",
   "metadata": {},
   "source": [
    "##### Setting Defaults for Attributes"
   ]
  },
  {
   "cell_type": "code",
   "execution_count": 34,
   "metadata": {},
   "outputs": [
    {
     "name": "stdout",
     "output_type": "stream",
     "text": [
      "Blue\n",
      "Red\n",
      "4\n",
      "Red\n",
      "Yellow\n",
      "\n",
      "\n",
      "Orange\n"
     ]
    }
   ],
   "source": [
    "# setting a default attribute inside of the __init__\n",
    "class Car():\n",
    "    def __init__(self, wheels):\n",
    "        self.wheels = wheels\n",
    "        self.color = 'Blue'\n",
    "honda = Car(4)\n",
    "print(honda.color)\n",
    "honda.color = \"Red\"\n",
    "print(honda.color)\n",
    "\n",
    "# setting a default parameter in the __init__\n",
    "class Car():\n",
    "    def __init__(self, wheels, color = 'Red'):\n",
    "        self.wheels = wheels\n",
    "        self.color = color\n",
    "ford = Car(4)\n",
    "print(ford.wheels)\n",
    "print(ford.color)\n",
    "ford.color = 'Yellow'\n",
    "print(ford.color)\n",
    "print('\\n')\n",
    "toyota = Car(4, 'Orange')\n",
    "print(toyota.color)"
   ]
  },
  {
   "cell_type": "markdown",
   "metadata": {},
   "source": [
    "##### Changing Class Attributes <br>\n",
    "<p>Keep in mind there are global class attributes and then there are attributes only available to each class instance which won't effect other classes.</p>"
   ]
  },
  {
   "cell_type": "code",
   "execution_count": 35,
   "metadata": {},
   "outputs": [
    {
     "name": "stdout",
     "output_type": "stream",
     "text": [
      "Cheetor before he was broken: True he is fun\n",
      "Cheetor after he was broken: False he is not fun\n"
     ]
    }
   ],
   "source": [
    "class Toy():\n",
    "    def __init__(self, name, is_it_fun):\n",
    "        self.name = name\n",
    "        self.is_it_fun = is_it_fun\n",
    "\n",
    "beast_wars = Toy('Cheetor', True)\n",
    "print(f'Cheetor before he was broken: {beast_wars.is_it_fun} he is fun')\n",
    "beast_wars.is_it_fun = False\n",
    "print(f'Cheetor after he was broken: {beast_wars.is_it_fun} he is not fun')"
   ]
  },
  {
   "cell_type": "markdown",
   "metadata": {},
   "source": [
    "##### In-Class Exercise #2 - Add two new attributes to your 'Car' class then print out two different instances with different doors and seats. Then take that bad boy to the shop and change those attributes. Either with an input or just by changing them"
   ]
  },
  {
   "cell_type": "code",
   "execution_count": 38,
   "metadata": {},
   "outputs": [
    {
     "name": "stdout",
     "output_type": "stream",
     "text": [
      "name: Draciel\n",
      "type: Attack\n",
      "franchise: Beyblade: Chronicles\n",
      "power_level: 9001\n"
     ]
    }
   ],
   "source": [
    "class Toy():\n",
    "    def __init__(self, name, type_, franchise, power_level = 1):\n",
    "        self.name = name\n",
    "        self.type = type_\n",
    "        self.franchise = franchise\n",
    "        self.power_level = power_level\n",
    "\n",
    "beyblade = Toy('Draciel', 'Attack', 'Beyblade')\n",
    "beyblade.franchise = 'Beyblade: Chronicles'\n",
    "beyblade.power_level += 9000\n",
    "\n",
    "for k, v in beyblade.__dict__.items():\n",
    "    print(f'{k}: {v}')"
   ]
  },
  {
   "cell_type": "code",
   "execution_count": 105,
   "metadata": {},
   "outputs": [
    {
     "name": "stdout",
     "output_type": "stream",
     "text": [
      "tomato pizza sauce\n",
      "pepperoni\n",
      "thin crust\n"
     ]
    }
   ],
   "source": [
    "class Pizza():\n",
    "    def __init__(self):\n",
    "        self.sauce = self.set_sauce()\n",
    "        self.topping = self.set_topping()\n",
    "        self.crust = self.set_crust()\n",
    "    \n",
    "    def set_sauce(self):\n",
    "        sauce = input(\"What kind of sauce would you like? \")\n",
    "        return sauce\n",
    "    \n",
    "    def set_topping(self):\n",
    "        topping = input(\"What kind of topping would you like? \")\n",
    "        return topping\n",
    "    \n",
    "    def set_crust(self):\n",
    "        crust = input(\"What kind of crust would you like? \")\n",
    "        return crust\n",
    "    \n",
    "my_pizza = Pizza()\n",
    "print(my_pizza.sauce)\n",
    "print(my_pizza.topping)\n",
    "print(my_pizza.crust)\n"
   ]
  },
  {
   "cell_type": "code",
   "execution_count": 107,
   "metadata": {},
   "outputs": [
    {
     "name": "stdout",
     "output_type": "stream",
     "text": [
      "sausage\n"
     ]
    }
   ],
   "source": [
    "my_pizza.topping = my_pizza.set_topping()\n",
    "print(my_pizza.topping)"
   ]
  },
  {
   "cell_type": "markdown",
   "metadata": {},
   "source": [
    "## Class Methods <br>\n",
    "<p>While inside of a class, functions are referred to as 'methods'. If you hear someone mention methods, they're speaking about classes. Methods are essentially functions, but only callable on the instances of a class.</p>"
   ]
  },
  {
   "cell_type": "markdown",
   "metadata": {},
   "source": [
    "##### Creating"
   ]
  },
  {
   "cell_type": "code",
   "execution_count": 50,
   "metadata": {},
   "outputs": [],
   "source": [
    "class Bus():\n",
    "    \"\"\"\n",
    "    The bus will have doors, seats, seats available, color, and a bus driver\n",
    "\n",
    "    Attributes for the bus:\n",
    "      doors: integer\n",
    "      seats: integer\n",
    "      seats_available: integer\n",
    "      color: string\n",
    "      bus_driver: string\n",
    "    \"\"\"\n",
    "    def __init__(self, doors, seats, seats_available, color, bus_driver):\n",
    "        self.doors = doors\n",
    "        self.seats = seats\n",
    "        self.seats_available = seats_available\n",
    "        self.color = color\n",
    "        self.bus_driver = bus_driver\n",
    "\n",
    "    # decrement the number of seats available\n",
    "    def load_passenger(self):\n",
    "        if self.seats_available <= 0:\n",
    "            print(\"The bus is full! You can't take any more passengers! :(\")\n",
    "            if self.seats_available < 0:\n",
    "                print(f\"You left {abs(self.seats_available)} by the road!\")\n",
    "                self.seats_available = 0\n",
    "        else:\n",
    "            passengers = int(input(\"How many passengers are getting on? \"))\n",
    "            self.seats_available -= passengers\n",
    "            if self.seats_available < 0:\n",
    "                print(f\"You left {abs(self.seats_available)}\")\n",
    "                self.seats_available = 0\n",
    "            print(f\"{passengers} have boarded. There are {self.seats_available} seats available on the bus.\")\n",
    "    \n",
    "    # increment the number of seats available\n",
    "    def unload_passengers(self):\n",
    "        if self.seats_available >= self.seats:\n",
    "            print(\"There is no one left, get off the bus!\")\n",
    "        else:\n",
    "            unload = int(input(\"How many passengers are getting off the bus? \"))\n",
    "            self.seats_available += unload\n",
    "            if self.seats_available >= self.seats:\n",
    "                self.seats_available = self.seats\n",
    "            print(f\"{unload} passengers have left the bus. There are {self.seats_available} left\")\n",
    "    \n",
    "    # change the bus driver attribute\n",
    "    def change_driver(self):\n",
    "        change = input(\"Who is replacing you? \")\n",
    "        self.bus_driver = change\n",
    "        print(f\"The new bus driver is {self.bus_driver}. Be sure to thank them!\")\n",
    "    \n",
    "    # display number of available seats\n",
    "    def check_seats(self):\n",
    "        print(f\"There are {self.seats_available} seats available\")\n",
    "    \n",
    "    # display bus color\n",
    "    def admire_bus(self):\n",
    "        print(f\"Would ya just look at that beautiful {self.color} bus! WOULD YA JUST LOOK AT IT!\")"
   ]
  },
  {
   "cell_type": "markdown",
   "metadata": {},
   "source": [
    "##### Calling"
   ]
  },
  {
   "cell_type": "code",
   "execution_count": 112,
   "metadata": {},
   "outputs": [
    {
     "name": "stdout",
     "output_type": "stream",
     "text": [
      "OH NO! There are still passengers to be picked up. PLS don't abandon them!\n",
      "{'doors': 2, 'seats': 90, 'seats_available': 45, 'color': 'yellow', 'bus_driver': 'Htae'}\n"
     ]
    }
   ],
   "source": [
    "def run():\n",
    "    htae_bus = Bus(2, 90, 45, 'yellow', 'Htae')\n",
    "    while True:\n",
    "        response = input(\"What would you like to do/ Load/Unload/Change Driver/Check Seats/Admire/Quit\")\n",
    "        if response.lower() == \"quit\":\n",
    "            print(\"OH NO! There are still passengers to be picked up. PLS don't abandon them!\")\n",
    "            break\n",
    "        elif response.lower() == \"load\":\n",
    "            htae_bus.load_passenger() # <-- don't forget your parenthesis\n",
    "        elif response.lower() == \"unload\":\n",
    "            htae_bus.unload_passengers()\n",
    "        elif response.lower() == \"change driver\":\n",
    "            htae_bus.change_driver()\n",
    "        elif response.lower() == \"check seats\":\n",
    "            htae_bus.check_seats()\n",
    "        elif response.lower() == \"admire\":\n",
    "            htae_bus.admire_bus()\n",
    "        else:\n",
    "            print(\"That is not a valid response. Please choose from the list.\")\n",
    "\n",
    "run()"
   ]
  },
  {
   "cell_type": "code",
   "execution_count": null,
   "metadata": {},
   "outputs": [],
   "source": [
    "class Cart():\n",
    "    def __init__(self):\n",
    "        self.items = []\n",
    "        \n",
    "#     def add_item(self):\n",
    "#         item = input(\"What would you like to add?\")\n",
    "#         quantity = int(input(\"How many would you like to add? \"))\n",
    "#         if item not in self.items:\n",
    "#             self.items[item] = quantity\n",
    "#         else:\n",
    "#             self.items[item] += quantity\n",
    "\n",
    "    def add_item(self):\n",
    "        item = input(\"What would you like to add? \")\n",
    "        self.items.append(item)\n",
    "    \n",
    "    def show_cart(self):\n",
    "        print(self.items)\n",
    "        \n",
    "    def remove_item(self):\n",
    "        pass\n",
    "        \n",
    "my_cart = Cart()\n",
    "my_cart.add_item()\n",
    "my_cart.show_cart()\n",
    "my_cart.add_item()\n",
    "my_cart.show_cart()\n"
   ]
  },
  {
   "cell_type": "markdown",
   "metadata": {},
   "source": [
    "##### Modifying an Attribute's Value Through a Method"
   ]
  },
  {
   "cell_type": "code",
   "execution_count": null,
   "metadata": {},
   "outputs": [],
   "source": [
    "# see above\n",
    "# load_passenger()\n",
    "# unload_passengers()\n",
    "# change_driver()"
   ]
  },
  {
   "cell_type": "markdown",
   "metadata": {},
   "source": [
    "##### Incrementing an Attribute's Value Through a Method"
   ]
  },
  {
   "cell_type": "code",
   "execution_count": null,
   "metadata": {},
   "outputs": [],
   "source": [
    "#unload_passengers()"
   ]
  },
  {
   "cell_type": "markdown",
   "metadata": {},
   "source": [
    "##### In-Class Exercise #3 - Add a method that takes in three parameters of year, doors and seats and prints out a formatted print statement with make, model, year, seats, and doors"
   ]
  },
  {
   "cell_type": "code",
   "execution_count": 108,
   "metadata": {},
   "outputs": [
    {
     "name": "stdout",
     "output_type": "stream",
     "text": [
      "Input not recognized.\n",
      "This car is from 2019 and is a Ford Explorer and has 4 doors and 5 seats\n",
      "Terminating.\n"
     ]
    }
   ],
   "source": [
    "# Create class with 2 paramters inside of the __init__ which are make and model, more if you'd like\n",
    "class Car():\n",
    "# Create two methods for your class\n",
    "    def __init__(self, year, doors, seats):\n",
    "        self.year = year\n",
    "        self.doors = doors\n",
    "        self.seats = seats\n",
    "        self.make = self.specify_make()\n",
    "        self.model = self.specify_model()\n",
    "\n",
    "# Create a method that alters an attribute for your class\n",
    "    def specify_make(self):\n",
    "        make = str(input(\"What make? \")).strip()\n",
    "        return make\n",
    "    def specify_model(self):\n",
    "        model = str(input(\"What model? \")).strip()\n",
    "        return model\n",
    "# Display method that prints information about the vehicle\n",
    "    def car_info(self):\n",
    "        print(f\"This car is from {self.year} and is a {self.make} {self.model} and has {self.doors} doors and {self.seats} seats\")\n",
    "# Output: This car is from 2019 and is a Ford Expolorer and has 4 doors and 5 seats\n",
    "\n",
    "# reminder in order to call class methods object.method()\n",
    "\n",
    "\n",
    "def build_car():\n",
    "    my_car = Car(2019, 4, 5)\n",
    "    while True:\n",
    "        response = input(\"View your car with [info], or exit with [quit] \").strip().lower()\n",
    "        if response == \"quit\":\n",
    "            print(\"Terminating.\")\n",
    "            break\n",
    "        elif response == 'info':\n",
    "            my_car.car_info()\n",
    "        else:\n",
    "            print(\"Input not recognized.\")\n",
    "\n",
    "build_car()\n"
   ]
  },
  {
   "cell_type": "markdown",
   "metadata": {},
   "source": [
    "## Inheritance <br>\n",
    "<p>You can create a child-parent relationship between two classes by using inheritance. What this allows you to do is have overriding methods, but also inherit traits from the parent class. Think of it as an actual parent and child, the child will inherit the parent's genes, as will the classes in OOP</p>"
   ]
  },
  {
   "cell_type": "markdown",
   "metadata": {},
   "source": [
    "##### Syntax for Inheriting from a Parent Class"
   ]
  },
  {
   "cell_type": "code",
   "execution_count": 58,
   "metadata": {},
   "outputs": [],
   "source": [
    "class Animal: # <-- Parent class\n",
    "    ACCELERATION = 9.8\n",
    "    def __init__(self, name, species, legs = 4):\n",
    "        self.name = name\n",
    "        self.species = species\n",
    "        self.legs = legs\n",
    "    # generic parent method\n",
    "    def make_sound(self):\n",
    "        print(\"REEEEEEEEEEEEE\")\n",
    "\n",
    "class Dog(Animal):\n",
    "    SPEED = 15\n",
    "    def __init__(self, name, species, legs, color):\n",
    "        super().__init__(name, species, legs)\n",
    "        self.color = color\n",
    "    \n",
    "    def print_info(self):\n",
    "        print(f\"{self.name} runs at {self.SPEED} mph and accelerates at {self.ACCELERATION} mps^2\")\n",
    "\n",
    "# grand child class\n",
    "class Mutt(Dog):\n",
    "    COLOR = \"light brownish\"\n",
    "    # access the animal init class through the dog class\n",
    "    def __init__(self, name, species, legs, color, eye_color):\n",
    "        Dog.__init__(self, name, species, legs, color)\n",
    "        self.eye_color = eye_color\n",
    "    # override the make_sound method\n",
    "    def make_sound(self):\n",
    "        print(\"rooooooooooo\")"
   ]
  },
  {
   "cell_type": "code",
   "execution_count": 59,
   "metadata": {},
   "outputs": [
    {
     "name": "stdout",
     "output_type": "stream",
     "text": [
      "9.8\n",
      "Kwiky\n",
      "REEEEEEEEEEEEE\n"
     ]
    }
   ],
   "source": [
    "koala = Animal('Kwiky', 'koala')\n",
    "print(koala.ACCELERATION)\n",
    "print(koala.name)\n",
    "koala.make_sound()"
   ]
  },
  {
   "cell_type": "code",
   "execution_count": 60,
   "metadata": {},
   "outputs": [
    {
     "name": "stdout",
     "output_type": "stream",
     "text": [
      "REEEEEEEEEEEEE\n",
      "Astro\n",
      "4\n",
      "red and white\n",
      "Astro runs at 15 mph and accelerates at 9.8 mps^2\n"
     ]
    }
   ],
   "source": [
    "basenji = Dog('Astro', 'basenji', 4, 'red and white')\n",
    "basenji.make_sound()\n",
    "print(basenji.name)\n",
    "print(basenji.legs)\n",
    "print(basenji.color)\n",
    "basenji.print_info()"
   ]
  },
  {
   "cell_type": "code",
   "execution_count": 61,
   "metadata": {},
   "outputs": [
    {
     "name": "stdout",
     "output_type": "stream",
     "text": [
      "Henri\n",
      "mini schnauzer and maybe yorkie\n",
      "rooooooooooo\n",
      "Henri runs at 15 mph and accelerates at 9.8 mps^2\n",
      "9.8\n",
      "15\n"
     ]
    }
   ],
   "source": [
    "henri = Mutt(\"Henri\", \"mini schnauzer and maybe yorkie\", 4, \"hazel\", \"brown and gray and some other stuff\")\n",
    "print(henri.name)\n",
    "print(henri.species)\n",
    "henri.make_sound()\n",
    "henri.print_info()\n",
    "print(henri.ACCELERATION)\n",
    "print(henri.SPEED)"
   ]
  },
  {
   "cell_type": "markdown",
   "metadata": {},
   "source": [
    "##### The \\__init\\__() Method for a Child Class - super()"
   ]
  },
  {
   "cell_type": "code",
   "execution_count": null,
   "metadata": {
    "scrolled": true
   },
   "outputs": [],
   "source": []
  },
  {
   "cell_type": "markdown",
   "metadata": {},
   "source": [
    "##### Defining Attributes and Methods for the Child Class"
   ]
  },
  {
   "cell_type": "code",
   "execution_count": null,
   "metadata": {},
   "outputs": [],
   "source": [
    "# See Above"
   ]
  },
  {
   "cell_type": "markdown",
   "metadata": {},
   "source": [
    "##### Method Overriding"
   ]
  },
  {
   "cell_type": "code",
   "execution_count": null,
   "metadata": {},
   "outputs": [],
   "source": [
    "# See Above"
   ]
  },
  {
   "cell_type": "markdown",
   "metadata": {},
   "source": [
    "## Classes as Attributes <br>\n",
    "<p>Classes can also be used as attributes within another class. This is useful in situations where you need to keep variables locally stored, instead of globally stored.</p>"
   ]
  },
  {
   "cell_type": "code",
   "execution_count": 65,
   "metadata": {},
   "outputs": [
    {
     "name": "stdout",
     "output_type": "stream",
     "text": [
      "2023 Tesla Plaid 20\n",
      "20\n"
     ]
    }
   ],
   "source": [
    "class Battery():\n",
    "    VOLTZ = 7.8\n",
    "\n",
    "    def __init__(self, cells):\n",
    "        self.cells = cells\n",
    "\n",
    "class Car():\n",
    "    def __init__(self, year, make, model, battery):\n",
    "        self.year = year\n",
    "        self.make = make\n",
    "        self.model = model\n",
    "        self.battery = battery\n",
    "\n",
    "    def print_info(self):\n",
    "        print(f\"{self.year} {self.make} {self.model} {self.battery}\")\n",
    "\n",
    "my_battery = Battery(20)\n",
    "\n",
    "tesla = Car(2023, \"Tesla\", \"Plaid\", my_battery.cells)\n",
    "tesla.print_info()\n",
    "\n",
    "print(my_battery.cells)"
   ]
  },
  {
   "cell_type": "markdown",
   "metadata": {},
   "source": [
    "## Classes as Attributes <br>"
   ]
  },
  {
   "cell_type": "markdown",
   "metadata": {},
   "source": [
    "<b>Generators in classes</b>"
   ]
  },
  {
   "cell_type": "code",
   "execution_count": 67,
   "metadata": {},
   "outputs": [],
   "source": [
    "# iterator through a list of movie genres and yield each genre until we get to the end of the list\n",
    "# once the end of the list is hit you will get a StopIteration error\n",
    "# try and except to print a message that says \"no more genres\"\n",
    "class Movie:\n",
    "    def __init__(self):\n",
    "        self.genres = ['spooky', 'adventure', 'drama', 'horror', 'comedy', 'action', 'romance']\n",
    "        self.generator_object = self.yield_genres()\n",
    "\n",
    "    def yield_genres(self):\n",
    "        for genre in self.genres:\n",
    "            yield genre\n",
    "    \n",
    "    def show_genres(self):\n",
    "        try:\n",
    "            return next(self.generator_object)\n",
    "        except:\n",
    "            print('no more genres')\n",
    "\n",
    "my_movie = Movie()"
   ]
  },
  {
   "cell_type": "code",
   "execution_count": 76,
   "metadata": {},
   "outputs": [
    {
     "name": "stdout",
     "output_type": "stream",
     "text": [
      "no more genres\n"
     ]
    }
   ],
   "source": [
    "my_movie.show_genres()"
   ]
  },
  {
   "cell_type": "markdown",
   "metadata": {},
   "source": [
    "# Exercises"
   ]
  },
  {
   "cell_type": "markdown",
   "metadata": {},
   "source": [
    "### Exercise 1 - Turn the shopping cart program from last week into an object-oriented program\n",
    "\n",
    "The comments in the cell below are there as a guide for thinking about the problem. However, if you feel a different way is best for you and your own thought process, please do what feels best for you by all means."
   ]
  },
  {
   "cell_type": "code",
   "execution_count": 130,
   "metadata": {},
   "outputs": [
    {
     "name": "stdout",
     "output_type": "stream",
     "text": [
      "You've made 0 potions, and can hold 50 more potions.\n",
      "{'strength': {'price': 400, 'quantity': 55}}\n"
     ]
    }
   ],
   "source": [
    "# TOO AMBITIOUS, GAVE UP, IGNORE CODE BELOW\n",
    "\n",
    "# # Create a class called cart that retains items and has methods to add, remove, and show\n",
    "# class Inventory():\n",
    "#     STASH = 'THE GOODS'\n",
    "#     def __init__(self, aisle, goods_added = 0, slot = 50):\n",
    "#         self.aisle = aisle\n",
    "#         self.goods_added = goods_added\n",
    "#         self.slot = slot\n",
    "#     def add_goods(self):\n",
    "#         if self.slot <= 0:\n",
    "#             print('The inventory has filled up! Time to sell!')\n",
    "#         else:\n",
    "#             self.goods_added += 1\n",
    "#             self.slot -= 1\n",
    "\n",
    "# class Potion():\n",
    "#     def __init__(self, pocket):\n",
    "#         self.name = self.brew_potions\n",
    "#         self.value = self.brew_potions\n",
    "#         self.quantity = 0\n",
    "#         self.pocket = pocket\n",
    "#         self.collection = {}\n",
    "#     def brew_potions(self):\n",
    "#         total_made = 0\n",
    "#         while self.pocket > 0:\n",
    "#             print(f\"You've made {total_made} potions, and can hold {self.pocket} more potions.\")\n",
    "#             potion = str(input('Name of potion: ')).strip()\n",
    "#             price = int(input('List your price: '))\n",
    "#             many = int(input('How many? '))\n",
    "#             if self.quantity > self.pocket:\n",
    "#                 print(\"You'll be making too many!\")\n",
    "#                 self.quantity = self.pocket\n",
    "#                 total_made += self.pocket\n",
    "#                 self.pocket = 0\n",
    "#                 print(f\"You made {self.quantity} more, just enough to fill up remaining pocket\")\n",
    "#             else:\n",
    "#                 self.name, self.value, self.quantity = potion, price, many\n",
    "#                 total_made += self.quantity\n",
    "#                 self.pocket -= self.quantity\n",
    "#     def collect(self):\n",
    "#         self.collection.update({self.name: {'price': self.value, 'quantity': self.quantity}})\n",
    "#         return self.collection\n",
    "    \n",
    "\n",
    "# class Mart():\n",
    "#     NAME = \"Htae's Potion Mart\"\n",
    "#     def __init__(self, items = {}, location = 'Default City, ST', merchant = 'Htae', open = False, cart = 25):\n",
    "#         self.items = items\n",
    "#         self.location = location\n",
    "#         self.merchant = merchant\n",
    "#         self.open = open\n",
    "#         self.cart = cart\n",
    "#     def open_close(self):\n",
    "#         if self.open: self.open = False\n",
    "#         else: self.open = True\n",
    "#     def change_location(self):\n",
    "#         if not self.open: return \"The Mart is currently closed!\"\n",
    "#         city = str(input('Which city? ')).strip().title()\n",
    "#         while True:\n",
    "#             state = str(input('Which state? ')).strip().upper()\n",
    "#             if len(state) > 2:\n",
    "#                 print('Two letters for state only, try again.')\n",
    "#             else: return f'{city}, {state}'\n",
    "#     def change_merchant(self):\n",
    "#         change = str(input(f'Who will be in charge while {self.merchant} is away? ')).strip().title()\n",
    "#         self.merchant = change\n",
    "#         print(f'Brewmaster {self.merchant} will be in charge now!')\n",
    "\n",
    "# def prep_store():\n",
    "#     pocket_size = 50\n",
    "#     batch = Potion(pocket_size)\n",
    "#     batch.brew_potions()\n",
    "#     batch.collect()\n",
    "#     print(batch.collection)\n",
    "\n",
    "# prep_store()"
   ]
  },
  {
   "cell_type": "code",
   "execution_count": null,
   "metadata": {},
   "outputs": [],
   "source": [
    "# class Shopper():\n",
    "#     SPECIES = 'Human'\n",
    "#     def __init__(self):\n",
    "#         self.name\n",
    "#         self.money\n",
    "#         self.shopping_list\n",
    "\n",
    "# def shop_items():\n",
    "#     shopper = \n",
    "\n",
    "# shop_items()"
   ]
  },
  {
   "cell_type": "code",
   "execution_count": 9,
   "metadata": {},
   "outputs": [],
   "source": [
    "class Product:\n",
    "    def __init__(self, name, price):\n",
    "        self.name = name\n",
    "        self.price = price\n",
    "\n",
    "class ShoppingCart:\n",
    "    def __init__(self):\n",
    "        self.items = {}\n",
    "\n",
    "    def add_item(self, product, quantity):\n",
    "        if product.name in self.items:\n",
    "            self.items[product.name] += quantity\n",
    "        else:\n",
    "            self.items[product.name] = quantity\n",
    "        print(f\"Added {quantity} {product.name}(s) to your cart.\")\n",
    "\n",
    "    def remove_item(self, product, quantity):\n",
    "        if product.name not in self.items:\n",
    "            print(f\"{product.name} not found in your cart.\")\n",
    "        elif self.items[product.name] < quantity:\n",
    "            print(f\"Only {self.items[product.name]} {product.name}(s) in your cart.\")\n",
    "        else:\n",
    "            self.items[product.name] -= quantity\n",
    "            print(f\"Removed {quantity} {product.name}(s) from your cart.\")\n",
    "\n",
    "    def display_cart(self):\n",
    "        if not self.items:\n",
    "            print(\"Your cart is empty.\")\n",
    "        else:\n",
    "            print(\"Your cart:\")\n",
    "            for item, quantity in self.items.items():\n",
    "                print(f\"{quantity} x {item} (${quantity * product.price})\")\n",
    "            print(f\"Total: ${self.get_total()}\")\n",
    "\n",
    "    def get_total(self):\n",
    "        total = 0\n",
    "        for item, quantity in self.items.items():\n",
    "            total += quantity * product.price\n",
    "        return total"
   ]
  },
  {
   "cell_type": "code",
   "execution_count": 13,
   "metadata": {},
   "outputs": [
    {
     "name": "stdout",
     "output_type": "stream",
     "text": [
      "\n",
      "Select an option:\n",
      "1. Add item to cart\n",
      "2. Remove item from cart\n",
      "3. View cart\n",
      "4. Quit\n",
      "\n",
      "Select a product:\n",
      "1. Apple ($0.5)\n",
      "2. Banana ($0.25)\n",
      "3. Orange ($0.75)\n",
      "4. Milk ($2.0)\n",
      "5. Paper Towel ($1.5)\n",
      "6. Strawberries ($3.5)\n",
      "7. Bread ($1.0)\n",
      "8. Chicken ($3.0)\n",
      "9. Beef ($3.0)\n",
      "10. Pork ($4.0)\n",
      "Added 2 Apple(s) to your cart.\n",
      "\n",
      "Select an option:\n",
      "1. Add item to cart\n",
      "2. Remove item from cart\n",
      "3. View cart\n",
      "4. Quit\n",
      "\n",
      "Select a product:\n",
      "1. Apple ($0.5)\n",
      "2. Banana ($0.25)\n",
      "3. Orange ($0.75)\n",
      "4. Milk ($2.0)\n",
      "5. Paper Towel ($1.5)\n",
      "6. Strawberries ($3.5)\n",
      "7. Bread ($1.0)\n",
      "8. Chicken ($3.0)\n",
      "9. Beef ($3.0)\n",
      "10. Pork ($4.0)\n",
      "Added 4 Chicken(s) to your cart.\n",
      "\n",
      "Select an option:\n",
      "1. Add item to cart\n",
      "2. Remove item from cart\n",
      "3. View cart\n",
      "4. Quit\n",
      "\n",
      "Select a product:\n",
      "1. Apple ($0.5)\n",
      "2. Banana ($0.25)\n",
      "3. Orange ($0.75)\n",
      "4. Milk ($2.0)\n",
      "5. Paper Towel ($1.5)\n",
      "6. Strawberries ($3.5)\n",
      "7. Bread ($1.0)\n",
      "8. Chicken ($3.0)\n",
      "9. Beef ($3.0)\n",
      "10. Pork ($4.0)\n",
      "Added 10 Banana(s) to your cart.\n",
      "\n",
      "Select an option:\n",
      "1. Add item to cart\n",
      "2. Remove item from cart\n",
      "3. View cart\n",
      "4. Quit\n",
      "\n",
      "Select a product to remove:\n",
      "Your cart:\n",
      "2 x Apple ($8.0)\n",
      "4 x Chicken ($16.0)\n",
      "10 x Banana ($40.0)\n",
      "Total: $64.0\n",
      "\n",
      "1. Apple\n",
      "2. Chicken\n",
      "3. Banana\n",
      "Removed 2 Banana(s) from your cart.\n",
      "\n",
      "Select an option:\n",
      "1. Add item to cart\n",
      "2. Remove item from cart\n",
      "3. View cart\n",
      "4. Quit\n",
      "\n",
      "Showing what you've added\n",
      "Your cart:\n",
      "2 x Apple ($8.0)\n",
      "4 x Chicken ($16.0)\n",
      "8 x Banana ($32.0)\n",
      "Total: $56.0\n",
      "\n",
      "Select an option:\n",
      "1. Add item to cart\n",
      "2. Remove item from cart\n",
      "3. View cart\n",
      "4. Quit\n",
      "\n",
      "Thanks for shopping with us!\n",
      "Your cart:\n",
      "2 x Apple ($8.0)\n",
      "4 x Chicken ($16.0)\n",
      "8 x Banana ($32.0)\n",
      "Total: $56.0\n"
     ]
    }
   ],
   "source": [
    "products = [\n",
    "    Product(\"Apple\", 0.50),\n",
    "    Product(\"Banana\", 0.25),\n",
    "    Product(\"Orange\", 0.75),\n",
    "    Product(\"Milk\", 2.00),\n",
    "    Product(\"Paper Towel\", 1.50),\n",
    "    Product(\"Strawberries\", 3.50),\n",
    "    Product(\"Bread\", 1.00),\n",
    "    Product(\"Chicken\", 3.00),\n",
    "    Product(\"Beef\", 3.00),\n",
    "    Product(\"Pork\", 4.00),\n",
    "\n",
    "]\n",
    "\n",
    "cart = ShoppingCart()\n",
    "\n",
    "while True:\n",
    "    print(\"\\nSelect an option:\")\n",
    "    print(\"1. Add item to cart\")\n",
    "    print(\"2. Remove item from cart\")\n",
    "    print(\"3. View cart\")\n",
    "    print(\"4. Quit\")\n",
    "    choice = input(\"> \")\n",
    "\n",
    "    if choice == \"1\":\n",
    "        print(\"\\nSelect a product:\")\n",
    "        for i, product in enumerate(products):\n",
    "            print(f\"{i+1}. {product.name} (${product.price})\")\n",
    "        product_choice = int(input(\"> \"))\n",
    "        selected_product = products[product_choice - 1]\n",
    "        quantity = int(input(\"Enter quantity: \"))\n",
    "        cart.add_item(selected_product, quantity)\n",
    "\n",
    "    elif choice == \"2\":\n",
    "        if not cart.items:\n",
    "            print(\"\\nYour cart is empty.\")\n",
    "        else:\n",
    "            print(\"\\nSelect a product to remove:\")\n",
    "            cart.display_cart()\n",
    "            print()\n",
    "            for i, item in enumerate(cart.items):\n",
    "                print(f\"{i+1}. {item}\")\n",
    "            item_choice = int(input(\"> \"))\n",
    "            selected_item = list(cart.items.keys())[item_choice - 1]\n",
    "            quantity = int(input(f\"How many {selected_item}(s) would you like to remove? \"))\n",
    "            cart.remove_item(Product(selected_item, 0), quantity)\n",
    "\n",
    "    elif choice == \"3\":\n",
    "        print(\"\\nShowing what you've added\")\n",
    "        cart.display_cart()\n",
    "\n",
    "    elif choice == \"4\":\n",
    "        print(\"\\nThanks for shopping with us!\")\n",
    "        cart.display_cart()\n",
    "        break\n",
    "\n",
    "    else:\n",
    "        print(\"\\nInvalid choice. Please try again.\")\n"
   ]
  },
  {
   "cell_type": "markdown",
   "metadata": {},
   "source": [
    "### Exercise 2 - Write a Python class which has two methods get_String and print_String. get_String accept a string from the user and print_String print the string in upper case"
   ]
  },
  {
   "cell_type": "code",
   "execution_count": 109,
   "metadata": {},
   "outputs": [
    {
     "name": "stdout",
     "output_type": "stream",
     "text": [
      "Your string, 'helLo, this Is a rANDOm striNg', has transformed into:\n",
      "HELLO, THIS IS A RANDOM STRING\n"
     ]
    }
   ],
   "source": [
    "class UpperString():\n",
    "    def __init__(self):\n",
    "        self.string = self.get_String()\n",
    "\n",
    "    def get_String(self):\n",
    "        user_string = input(\"Enter a string: \").strip()\n",
    "        print(f\"Your string, '{user_string}', has transformed into:\")\n",
    "        return user_string.upper()\n",
    "\n",
    "    def print_String(self):\n",
    "        print(f\"{self.string}\")\n",
    "\n",
    "my_string = UpperString()\n",
    "my_string.print_String()"
   ]
  }
 ],
 "metadata": {
  "kernelspec": {
   "display_name": "Python 3 (ipykernel)",
   "language": "python",
   "name": "python3"
  },
  "language_info": {
   "codemirror_mode": {
    "name": "ipython",
    "version": 3
   },
   "file_extension": ".py",
   "mimetype": "text/x-python",
   "name": "python",
   "nbconvert_exporter": "python",
   "pygments_lexer": "ipython3",
   "version": "3.9.13"
  }
 },
 "nbformat": 4,
 "nbformat_minor": 2
}
